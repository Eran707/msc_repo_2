{
 "cells": [
  {
   "cell_type": "markdown",
   "metadata": {},
   "source": [
    "# FIGURE 4 - CURRENT FLOW INTO COMPARTMENT"
   ]
  },
  {
   "cell_type": "markdown",
   "metadata": {},
   "source": [
    "## IMPORTS"
   ]
  },
  {
   "cell_type": "code",
   "execution_count": 1,
   "metadata": {},
   "outputs": [
    {
     "name": "stdout",
     "output_type": "stream",
     "text": [
      "All relevant classes imported\n"
     ]
    }
   ],
   "source": [
    "try:\n",
    "        \n",
    "    import h5py\n",
    "    \n",
    "    from ipywidgets import widgets, Layout, interact, interactive, interactive_output, Dropdown\n",
    "    from IPython.display import display\n",
    "    import matplotlib.pyplot as mplt\n",
    "    import scipy\n",
    "    from sympy import symbols, Eq, solve\n",
    "    import numpy as np\n",
    "    import random\n",
    "    import seaborn as sns \n",
    "    import pandas as pd\n",
    "    import graphing as gr\n",
    "    #!pip install viola\n",
    "    ########## Modules required for artist drawing on matplotlib\n",
    "    import matplotlib.path as mpath\n",
    "    import matplotlib.lines as mlines\n",
    "    import matplotlib.patches as mpatches\n",
    "    from matplotlib.collections import PatchCollection\n",
    "    \n",
    "      \n",
    "except ModuleNotFoundError:\n",
    "        print(\"A class you are trying to import is not present in the directory\")\n",
    "    \n",
    "except Exception:\n",
    "        print(\"Something went wrong - modules have not been imported\")\n",
    "\n",
    "else: \n",
    "    print(\"All relevant classes imported\")"
   ]
  },
  {
   "cell_type": "markdown",
   "metadata": {},
   "source": [
    "## SELECT FILE"
   ]
  },
  {
   "cell_type": "code",
   "execution_count": 52,
   "metadata": {},
   "outputs": [
    {
     "data": {
      "application/vnd.jupyter.widget-view+json": {
       "model_id": "a6dd99d5f16c467891bba92d96ddf6ad",
       "version_major": 2,
       "version_minor": 0
      },
      "text/plain": [
       "Text(value='Experiment-H4', description='File name')"
      ]
     },
     "metadata": {},
     "output_type": "display_data"
    },
    {
     "data": {
      "application/vnd.jupyter.widget-view+json": {
       "model_id": "5430b216bb474f75832100436d69611f",
       "version_major": 2,
       "version_minor": 0
      },
      "text/plain": [
       "Button(button_style='success', description='Select file', style=ButtonStyle())"
      ]
     },
     "metadata": {},
     "output_type": "display_data"
    },
    {
     "data": {
      "application/vnd.jupyter.widget-view+json": {
       "model_id": "4b1e28b36191433d9d0db798a732c833",
       "version_major": 2,
       "version_minor": 0
      },
      "text/plain": [
       "Output()"
      ]
     },
     "metadata": {},
     "output_type": "display_data"
    },
    {
     "name": "stdout",
     "output_type": "stream",
     "text": [
      "File found and content loaded into memory\n"
     ]
    }
   ],
   "source": [
    "#######################################################\n",
    "#### GUI \n",
    "\n",
    "edt_filename = widgets.Text(description = 'File name', value='Experiment-H4')\n",
    "btn_select = widgets.Button(description = 'Select file',button_style='success')\n",
    "output_file = widgets.Output()\n",
    "\n",
    "display(edt_filename, btn_select,output_file)\n",
    "\n",
    "\n",
    "\n",
    "#######################################################\n",
    "#### FUNCTIONS\n",
    "\n",
    "\n",
    "#df_flux = pd.DataFrame({'Compartment':[],'Na_net':[], 'Na_leak':[],'Na_Atpase':[], 'K_net':[],'K_leak':[],'K_Atpase':[],'K_kcc2':[], 'Cl_net':[],'Cl_kcc2':[],'X':[],'z':[]  })\n",
    "df_ed = pd.DataFrame({'Boundary':[],'Na':[],'K':[],'Cl':[]})\n",
    "\n",
    "\n",
    "\n",
    "def btn_select_clicked(b):\n",
    "    global file_name, df_end, df_start, df_end_flux, df_end_ed, df_end_net_flux\n",
    "    file_name = \"\\\\\"\n",
    "    file_name = file_name + edt_filename.value \n",
    "    \n",
    "    try: \n",
    "        with h5py.File(file_name, mode='r') as hdf:\n",
    "            \n",
    "            print(\"File found and content loaded into memory\")\n",
    "            global C, comp_names_arr, intervals, interval_arr, master_arr, t_arr, ED_master_arr,E_group_arr\n",
    "            C = hdf.get('COMPARTMENTS')\n",
    "            C_group_arr =[]\n",
    "            t_arr_bool = True\n",
    "            comp_names_arr= list(C.keys())\n",
    "                        \n",
    "            C1 = C.get(comp_names_arr[0])\n",
    "            \n",
    "            T = hdf.get('TIMING')\n",
    "            total_t = T.get('TOTAL_T')[()]\n",
    "            intervals = T.get('INTERVALS')[()]\n",
    "            dt = T.get(\"DT\")[()]\n",
    "            total_steps = total_t /dt          \n",
    "            interval_step = total_steps / intervals\n",
    "            interval_arr = [round(interval_step * i) for i in range(intervals)]\n",
    "            \n",
    "            master_arr = []\n",
    "            t_arr =[]\n",
    "            \n",
    "            \n",
    "            \n",
    "            \n",
    "            ##### LOADING COMPARTMENT DATA\n",
    "            for e in range(len(comp_names_arr)):\n",
    "                C_group = C.get(comp_names_arr[e])\n",
    "                C_group_arr.append(C_group)\n",
    "               \n",
    "                data_arr_2 =[]\n",
    "                for j in range(len(list(C_group.keys()))):\n",
    "                    dataset = C_group.get(str(interval_arr[j]))\n",
    "                    \n",
    "                    data_arr = []\n",
    "                    for d in range(len(list(dataset))):\n",
    "                        data_arr.append(dataset[d])\n",
    "                    \n",
    "                    data_arr_2.append(data_arr)\n",
    "            \n",
    "                    if t_arr_bool == True:\n",
    "                        t_arr.append(data_arr[0])         \n",
    "                \n",
    "                master_arr.append(data_arr_2)\n",
    "                t_arr_bool = False\n",
    "                \n",
    "            \n",
    "            #df_start['radius'] = \n",
    "            \n",
    "            E = hdf.get('ELECTRODIFFUSION')\n",
    "            E_group_arr = list(E.keys())\n",
    "            ED_master_arr = []            \n",
    "            \n",
    "            ##### LOADING ELECTRODIFFUSION DATA\n",
    "            for x in range(len(E_group_arr)): # Looping through the electrodiffusion groups on the file\n",
    "                \n",
    "                E_group = E.get(E_group_arr[x])\n",
    "                \n",
    "                ED_data_arr =[] #stores the electrodiffusion data for a group\n",
    "                \n",
    "                for y in range(len(list(E_group.keys()))-1): # Looping through all the datasets of the group\n",
    "                    \n",
    "                    dataset = E_group.get(str(interval_arr[y+1]))\n",
    "                   \n",
    "                    ED_data_arr_2 = [] #stores the dataset values for one dataset\n",
    "                    for z in range(len(list(dataset))): # Looping through the individual datasets to extract data\n",
    "                        ED_data_arr_2.append(dataset[z])\n",
    "                    \n",
    "                    \n",
    "                    ED_data_arr.append(ED_data_arr_2) \n",
    "                    \n",
    "            \n",
    "                ED_master_arr.append(ED_data_arr) #contains all the electrodiffusion data for all the groups (1st index is the group, 2nd index is the interval)\n",
    "            \n",
    "      \n",
    "            \n",
    "    except: \n",
    "        raise(\"File not found\")\n",
    "        raise(\"File needs to be in base directory\")\n",
    "\n",
    "\n",
    "btn_select.on_click(btn_select_clicked)"
   ]
  },
  {
   "cell_type": "markdown",
   "metadata": {},
   "source": [
    "## 4a - Current Amplitudes and shapes"
   ]
  },
  {
   "cell_type": "code",
   "execution_count": 53,
   "metadata": {},
   "outputs": [
    {
     "data": {
      "text/plain": [
       "<matplotlib.legend.Legend at 0x1d1697026a0>"
      ]
     },
     "execution_count": 53,
     "metadata": {},
     "output_type": "execute_result"
    },
    {
     "data": {
      "image/png": "[encoded data removed]",
      "text/plain": [
       "<Figure size 432x288 with 1 Axes>"
      ]
     },
     "metadata": {
      "needs_background": "light"
     },
     "output_type": "display_data"
    }
   ],
   "source": [
    "for j in range(len(master_arr)):\n",
    "    v_arr = [master_arr[j][i][-3] for i in range(len(t_arr))]\n",
    "    #print(str(j) +' of '+str(len(master_arr)+' loaded'))\n",
    "    mplt.plot(t_arr[:],v_arr[:], label= comp_names_arr[j])\n",
    "\n",
    "mplt.legend()"
   ]
  },
  {
   "cell_type": "code",
   "execution_count": 56,
   "metadata": {},
   "outputs": [
    {
     "data": {
      "application/vnd.jupyter.widget-view+json": {
       "model_id": "9768e3fc197a4252a35b87d442369edf",
       "version_major": 2,
       "version_minor": 0
      },
      "text/plain": [
       "Button(button_style='success', description='Plot 4A', style=ButtonStyle())"
      ]
     },
     "metadata": {},
     "output_type": "display_data"
    },
    {
     "data": {
      "image/png": "[encoded data removed]",
      "text/plain": [
       "<Figure size 576x360 with 1 Axes>"
      ]
     },
     "metadata": {
      "needs_background": "light"
     },
     "output_type": "display_data"
    }
   ],
   "source": [
    "######\n",
    "btn_plot_4a = widgets.Button(description=\"Plot 4A\", button_style='success')\n",
    "display(btn_plot_4a)\n",
    "#####\n",
    "\n",
    "\n",
    "\n",
    "def btn_plot_4a_clicked(b):\n",
    "    \n",
    " \n",
    "    f4a, ax_1 = mplt.subplots(1,1,figsize=(8,5), sharex=True,sharey=True) \n",
    "    #f4a.tight_layout(pad=4.0)\n",
    "\n",
    "    t2_arr = [t_arr[j]*1e3 for j in range(len(t_arr))]\n",
    "    v_arr = [master_arr[8][j][-3]*1e6 for j in range(len(master_arr[0]))]\n",
    "    ax_1.plot(t2_arr, v_arr, label=\"Comp9\",color='r')\n",
    "    v_arr = [master_arr[6][j][-3]*1e6 for j in range(len(master_arr[0]))]\n",
    "    ax_1.plot(t2_arr, v_arr,label = \"Comp7\",color='b')\n",
    "    v_arr = [master_arr[4][j][-3]*1e6 for j in range(len(master_arr[0]))]\n",
    "    ax_1.plot(t2_arr, v_arr, label = \"Comp5\",color='g')\n",
    "    v_arr = [master_arr[2][j][-3]*1e6 for j in range(len(master_arr[0]))]\n",
    "    ax_1.plot(t2_arr, v_arr, label = \"Comp3\",color='orange')\n",
    "    v_arr = [master_arr[0][j][-3]*1e6 for j in range(len(master_arr[0]))]\n",
    "    ax_1.plot(t2_arr, v_arr, label = \"Comp1\",color='brown')\n",
    "    ax_1.legend()\n",
    "    ax_1.set_xlabel(\"Time(ms)\")\n",
    "    ax_1.set_ylabel(\"Membrane potential(mV)\")  \n",
    "    \n",
    "     \n",
    "    \n",
    "    sns.despine()\n",
    " \n",
    "    \n",
    "#####\n",
    "btn_plot_4a.on_click(btn_plot_4a_clicked)"
   ]
  },
  {
   "cell_type": "code",
   "execution_count": 57,
   "metadata": {},
   "outputs": [
    {
     "data": {
      "text/plain": [
       "<matplotlib.legend.Legend at 0x1d17eaf48e0>"
      ]
     },
     "execution_count": 57,
     "metadata": {},
     "output_type": "execute_result"
    },
    {
     "data": {
      "image/png": "[encoded data removed]",
      "text/plain": [
       "<Figure size 432x288 with 1 Axes>"
      ]
     },
     "metadata": {
      "needs_background": "light"
     },
     "output_type": "display_data"
    }
   ],
   "source": [
    "for j in range(len(master_arr)):\n",
    "    w_arr = [master_arr[j][i][3] for i in range(len(t_arr))]\n",
    "    #print(str(j) +' of '+str(len(master_arr)+' loaded'))\n",
    "    mplt.plot(t_arr[:],w_arr[:], label= comp_names_arr[j])\n",
    "\n",
    "mplt.legend()"
   ]
  },
  {
   "cell_type": "code",
   "execution_count": 58,
   "metadata": {},
   "outputs": [
    {
     "data": {
      "application/vnd.jupyter.widget-view+json": {
       "model_id": "46cec772a66b4e00b840084791f4581f",
       "version_major": 2,
       "version_minor": 0
      },
      "text/plain": [
       "Button(button_style='success', description='Plot 4B', style=ButtonStyle())"
      ]
     },
     "metadata": {},
     "output_type": "display_data"
    },
    {
     "data": {
      "image/png": "[encoded data removed]",
      "text/plain": [
       "<Figure size 432x288 with 2 Axes>"
      ]
     },
     "metadata": {
      "needs_background": "light"
     },
     "output_type": "display_data"
    }
   ],
   "source": [
    "######\n",
    "btn_plot_4b = widgets.Button(description=\"Plot 4B\", button_style='success')\n",
    "display(btn_plot_4b)\n",
    "#####\n",
    "vm_arr =[]\n",
    "\n",
    "\n",
    "def btn_plot_4b_clicked(b):\n",
    "\n",
    "    for i in range(len(comp_names_arr),0,-1):\n",
    "        \n",
    "        temp_arr_vm = [master_arr[i-1][j][-3]*1e3 for j in range(len(master_arr[0]))] \n",
    "        temp_arr_vm = temp_arr_vm[:25000:1000]\n",
    "        vm_arr.append(temp_arr_vm)\n",
    "\n",
    " \n",
    "    g_vm = sns.heatmap(vm_arr,cmap=\"Reds_r\",xticklabels=False,  cbar_kws={'pad':0.05,'label':'Voltage(mV)', 'orientation':'horizontal' },linewidth=0.01 )\n",
    "    g_vm.set_ylabel(\"Compartment\",fontsize=10)\n",
    "    g_vm.set_yticklabels(comp_names_arr[::-1], fontsize=8, rotation=0)\n",
    "    #left_ax_vm.set_title(\"Vm in each compartment\",fontsize=10)    \n",
    "    \n",
    "    \n",
    "    sns.despine()\n",
    "#####\n",
    "btn_plot_4b.on_click(btn_plot_4b_clicked)"
   ]
  },
  {
   "cell_type": "markdown",
   "metadata": {},
   "source": [
    "## Time constant\n"
   ]
  },
  {
   "cell_type": "code",
   "execution_count": 59,
   "metadata": {
    "scrolled": false
   },
   "outputs": [
    {
     "name": "stdout",
     "output_type": "stream",
     "text": [
      "4999\n",
      "Vmax: -72.57333030867609mV\n",
      "Time of Vmax: 0.09998000000007932s\n",
      "---------\n",
      "Vmin: -72.57333030867609mV\n",
      "Time of Vmin: 0.09998000000007932s\n",
      "---------\n",
      "4999\n",
      "Vtau: -72.57333030867609mV\n",
      "Time of Vtau: 0.09998000000007932s\n",
      "---------\n",
      "---------\n",
      "Tau = 0.0ms\n",
      "---------\n",
      "---------\n"
     ]
    },
    {
     "data": {
      "image/png": "[encoded data removed]",
      "text/plain": [
       "<Figure size 432x288 with 1 Axes>"
      ]
     },
     "metadata": {
      "needs_background": "light"
     },
     "output_type": "display_data"
    }
   ],
   "source": [
    "v_arr = [master_arr[8][i][-3]*1e3 for i in range(len(t_arr))]\n",
    "mplt.plot(t_arr[:],v_arr[:], label= comp_names_arr[8])\n",
    "mplt.ylabel(\"Membrane potential (mV)\")\n",
    "mplt.xlabel(\"Time (s)\")\n",
    "mplt.legend()\n",
    "global vmax_index, vmax, vtau,tau\n",
    "\n",
    "vmax = v_arr[0]\n",
    "vmin = v_arr[-1]\n",
    "vmax_index = 0\n",
    "vmin_index = -1\n",
    "\n",
    "\n",
    "for i in range(len(v_arr)):\n",
    "    if vmax<v_arr[i]:\n",
    "        vmax = v_arr[i]\n",
    "        vmax_index = i\n",
    "    if i>2000 and round(vmin,1)>round(v_arr[i],1): \n",
    "        vmin = v_arr[i]\n",
    "        vmin_index = i\n",
    "\n",
    "print(vmax_index)\n",
    "print(\"Vmax: \" + str(vmax) +\"mV\")\n",
    "print(\"Time of Vmax: \" + str(t_arr[vmax_index]) + \"s\")\n",
    "print(\"---------\")\n",
    "print(\"Vmin: \" + str(vmin) +\"mV\")\n",
    "print(\"Time of Vmin: \" + str(t_arr[vmin_index]) + \"s\")\n",
    "print(\"---------\")\n",
    "\n",
    "vdiff = vmax-vmin\n",
    "vtau = vmax - 0.63*(vdiff)\n",
    "vtau_index = 0\n",
    "\n",
    "\n",
    "for j in range(len(v_arr)):\n",
    "    if (j>1000) and (round(v_arr[j],2) == round(vtau,2)):\n",
    "        vtau_index = j\n",
    "        \n",
    "print(vtau_index)\n",
    "\n",
    "print(\"Vtau: \" + str(vtau) +\"mV\")\n",
    "print(\"Time of Vtau: \" + str(t_arr[vtau_index]) + \"s\")\n",
    "\n",
    "tau = t_arr[vtau_index] - t_arr[vmax_index]\n",
    "\n",
    "mplt.plot(t_arr[vtau_index], vtau,'go')\n",
    "\n",
    "print(\"---------\")\n",
    "print(\"---------\")\n",
    "print(\"Tau = \" + str(tau*1e3) +\"ms\")\n",
    "print(\"---------\")\n",
    "print(\"---------\")"
   ]
  },
  {
   "cell_type": "markdown",
   "metadata": {},
   "source": [
    "## Length constant"
   ]
  },
  {
   "cell_type": "code",
   "execution_count": 42,
   "metadata": {},
   "outputs": [
    {
     "name": "stdout",
     "output_type": "stream",
     "text": [
      "[3.09036660425914, 5.86115950529704]\n",
      "--------\n",
      "Line of Best fit: y = 0.147(logx)^2 -1.313(logx) -69.667\n",
      "--------\n",
      "Vmax: -71.9mV\n",
      "V-lambda: -72.32mV\n",
      "---------\n",
      "Length constant: 21.9851um\n"
     ]
    },
    {
     "data": {
      "image/png": "[encoded data removed]",
      "text/plain": [
       "<Figure size 720x432 with 2 Axes>"
      ]
     },
     "metadata": {
      "needs_background": "light"
     },
     "output_type": "display_data"
    }
   ],
   "source": [
    "v_arr = []\n",
    "len_arr = [10,30,50,70,90,110,130,150,170]\n",
    "\n",
    "global x_lambda\n",
    "\n",
    "for i in range(len(comp_names_arr),0,-1):\n",
    "    v_arr.append(master_arr[i-1][vmax_index][-3]*1e3)\n",
    "\n",
    "v_diff = v_arr[0]-v_arr[8]\n",
    "v_lambda = v_arr[0] -0.63*v_diff\n",
    "\n",
    "\n",
    "x_data = np.array(len_arr)\n",
    "y_data = np.array(v_arr)\n",
    "log_x_data = np.log(x_data)\n",
    "#log_y_data=np.log(y_data)\n",
    "[a,b,c] = np.polyfit(log_x_data, y_data, 2)\n",
    "y_bestfit = a * (log_x_data**2) + b*log_x_data +c\n",
    "\n",
    "\n",
    "f_lenconstant, [ax_1,ax_2] = mplt.subplots(1,2,figsize=(10,6), sharex=False,sharey=True) \n",
    "\n",
    "ax_1.plot(len_arr,v_arr,\"bo\",)\n",
    "ax_1.set_ylabel(\"Membrane potential (mV)\")\n",
    "ax_1.set_xlabel(\"Dendrite length(um)\")\n",
    "\n",
    "ax_2.plot(log_x_data, y_data,'bo')\n",
    "ax_2.plot(log_x_data, y_bestfit,'r')\n",
    "ax_2.set_xlabel(\"Log Dendrite length(um)\")\n",
    "\n",
    "x = symbols('x')\n",
    "eq1 = Eq(a * (x)**2 + b*x +c,v_lambda)\n",
    "sol = solve(eq1)\n",
    "print(sol)\n",
    "log_x_lambda = float(sol[0])\n",
    "x_lambda = np.exp(log_x_lambda)\n",
    "\n",
    "ax_1.plot(x_lambda, v_lambda,'go')\n",
    "ax_2.plot(log_x_lambda, v_lambda,'go')\n",
    "\n",
    "print('--------')\n",
    "print('Line of Best fit: y = '+str(round(a,3))+'(logx)^2 ' + str(round(b,3))+'(logx) '+str(round(c,3)))\n",
    "print('--------')\n",
    "print(\"Vmax: \" + str(round(vmax,2)) +\"mV\")\n",
    "print(\"V-lambda: \" + str(round(v_lambda,2)) +\"mV\")\n",
    "print(\"---------\")\n",
    "print(\"Length constant: \" + str(round(x_lambda,4)) + 'um')"
   ]
  },
  {
   "cell_type": "markdown",
   "metadata": {},
   "source": [
    "## Passive Neuron Properties\n"
   ]
  },
  {
   "cell_type": "code",
   "execution_count": 9,
   "metadata": {},
   "outputs": [
    {
     "name": "stdout",
     "output_type": "stream",
     "text": [
      "---------------------------\n",
      "PASSIVE NEURON PROPERTIES\n",
      "---------------------------\n",
      "Lambda (Length constant): 77.51 um\n",
      "Tau (time constant): 8.87 ms\n",
      "Cm: 2.0 uF/cm2 --> Default\n",
      "Rm: 4435.0 ohm.cm2 --> Calculated via time constant\n",
      "Ri: 73811883.86 ohm.cm --> Calculated via length constant\n"
     ]
    }
   ],
   "source": [
    "cm = 2*1e-6 #F/cm2\n",
    "\n",
    "# tau = cm * rm\n",
    "rm = tau/cm\n",
    "\n",
    "diam = 1 #1um\n",
    "diam = diam*1e-4 #cm\n",
    "\n",
    "ri = symbols(\"ri\")\n",
    "eq2 = Eq( ((rm)/(ri))**0.5 , x_lambda*1e-4)\n",
    "sol = solve(eq2)\n",
    "ri = float(sol[0])\n",
    "\n",
    "print('---------------------------')\n",
    "print('PASSIVE NEURON PROPERTIES')\n",
    "print('---------------------------')\n",
    "print(\"Lambda (Length constant): \" + str(round(x_lambda,2))+\" um\")\n",
    "print(\"Tau (time constant): \" + str(round(tau*1e3,2))+\" ms\")\n",
    "print(\"Cm: \" + str(cm*1e6)+\" uF/cm2 --> Default\")\n",
    "print(\"Rm: \" + str(round(rm,2))+\" ohm.cm2 --> Calculated via time constant\")\n",
    "print(\"Ri: \" + str(round(ri,2))+ ' ohm.cm --> Calculated via length constant')"
   ]
  },
  {
   "cell_type": "code",
   "execution_count": null,
   "metadata": {},
   "outputs": [],
   "source": []
  }
 ],
 "metadata": {
  "kernelspec": {
   "display_name": "Python 3 (ipykernel)",
   "language": "python",
   "name": "python3"
  },
  "language_info": {
   "codemirror_mode": {
    "name": "ipython",
    "version": 3
   },
   "file_extension": ".py",
   "mimetype": "text/x-python",
   "name": "python",
   "nbconvert_exporter": "python",
   "pygments_lexer": "ipython3",
   "version": "3.9.7"
  }
 },
 "nbformat": 4,
 "nbformat_minor": 4
}
