{
 "cells": [
  {
   "cell_type": "markdown",
   "metadata": {},
   "source": [
    "# FIGURE 4 - CURRENT FLOW INTO COMPARTMENT"
   ]
  },
  {
   "cell_type": "markdown",
   "metadata": {},
   "source": [
    "## IMPORTS"
   ]
  },
  {
   "cell_type": "code",
   "execution_count": 51,
   "metadata": {},
   "outputs": [
    {
     "name": "stdout",
     "output_type": "stream",
     "text": [
      "All relevant classes imported\n"
     ]
    }
   ],
   "source": [
    "try:\n",
    "        \n",
    "    import h5py\n",
    "    \n",
    "    from ipywidgets import widgets, Layout, interact, interactive, interactive_output, Dropdown\n",
    "    from IPython.display import display\n",
    "    import matplotlib.pyplot as mplt\n",
    "    import scipy\n",
    "    from sympy import symbols, Eq, solve\n",
    "    import numpy as np\n",
    "    import random\n",
    "    import seaborn as sns \n",
    "    import pandas as pd\n",
    "    import graphing as gr\n",
    "    #!pip install viola\n",
    "    ########## Modules required for artist drawing on matplotlib\n",
    "    import matplotlib.path as mpath\n",
    "    import matplotlib.lines as mlines\n",
    "    import matplotlib.patches as mpatches\n",
    "    from matplotlib.collections import PatchCollection\n",
    "    \n",
    "      \n",
    "except ModuleNotFoundError:\n",
    "        print(\"A class you are trying to import is not present in the directory\")\n",
    "    \n",
    "except Exception:\n",
    "        print(\"Something went wrong - modules have not been imported\")\n",
    "\n",
    "else: \n",
    "    print(\"All relevant classes imported\")"
   ]
  },
  {
   "cell_type": "markdown",
   "metadata": {},
   "source": [
    "## SELECT FILE"
   ]
  },
  {
   "cell_type": "code",
   "execution_count": 3,
   "metadata": {},
   "outputs": [
    {
     "data": {
      "application/vnd.jupyter.widget-view+json": {
       "model_id": "4e507b2774074fdfaac3026b4d52f411",
       "version_major": 2,
       "version_minor": 0
      },
      "text/plain": [
       "Text(value='Experiment-H4', description='File name')"
      ]
     },
     "metadata": {},
     "output_type": "display_data"
    },
    {
     "data": {
      "application/vnd.jupyter.widget-view+json": {
       "model_id": "2e078d2b3ef94ac9935149eb2f62d758",
       "version_major": 2,
       "version_minor": 0
      },
      "text/plain": [
       "Button(button_style='success', description='Select file', style=ButtonStyle())"
      ]
     },
     "metadata": {},
     "output_type": "display_data"
    },
    {
     "data": {
      "application/vnd.jupyter.widget-view+json": {
       "model_id": "6c5fea5cda3e4cfa97c51b70d2cb1710",
       "version_major": 2,
       "version_minor": 0
      },
      "text/plain": [
       "Output()"
      ]
     },
     "metadata": {},
     "output_type": "display_data"
    },
    {
     "name": "stdout",
     "output_type": "stream",
     "text": [
      "File found and content loaded into memory\n"
     ]
    }
   ],
   "source": [
    "#######################################################\n",
    "#### GUI \n",
    "\n",
    "edt_filename = widgets.Text(description = 'File name', value='Experiment-H4')\n",
    "btn_select = widgets.Button(description = 'Select file',button_style='success')\n",
    "output_file = widgets.Output()\n",
    "\n",
    "display(edt_filename, btn_select,output_file)\n",
    "\n",
    "\n",
    "\n",
    "#######################################################\n",
    "#### FUNCTIONS\n",
    "\n",
    "\n",
    "#df_flux = pd.DataFrame({'Compartment':[],'Na_net':[], 'Na_leak':[],'Na_Atpase':[], 'K_net':[],'K_leak':[],'K_Atpase':[],'K_kcc2':[], 'Cl_net':[],'Cl_kcc2':[],'X':[],'z':[]  })\n",
    "df_ed = pd.DataFrame({'Boundary':[],'Na':[],'K':[],'Cl':[]})\n",
    "\n",
    "\n",
    "\n",
    "def btn_select_clicked(b):\n",
    "    global file_name, df_end, df_start, df_end_flux, df_end_ed, df_end_net_flux\n",
    "    file_name = \"\\\\\"\n",
    "    file_name = file_name + edt_filename.value \n",
    "    \n",
    "    try: \n",
    "        with h5py.File(file_name, mode='r') as hdf:\n",
    "            \n",
    "            print(\"File found and content loaded into memory\")\n",
    "            global C, comp_names_arr, intervals, interval_arr, master_arr, t_arr, ED_master_arr,E_group_arr\n",
    "            C = hdf.get('COMPARTMENTS')\n",
    "            C_group_arr =[]\n",
    "            t_arr_bool = True\n",
    "            comp_names_arr= list(C.keys())\n",
    "                        \n",
    "            C1 = C.get(comp_names_arr[0])\n",
    "            \n",
    "            T = hdf.get('TIMING')\n",
    "            total_t = T.get('TOTAL_T')[()]\n",
    "            intervals = T.get('INTERVALS')[()]\n",
    "            dt = T.get(\"DT\")[()]\n",
    "            total_steps = total_t /dt          \n",
    "            interval_step = total_steps / intervals\n",
    "            interval_arr = [round(interval_step * i) for i in range(intervals)]\n",
    "            \n",
    "            master_arr = []\n",
    "            t_arr =[]\n",
    "            \n",
    "            \n",
    "            \n",
    "            \n",
    "            ##### LOADING COMPARTMENT DATA\n",
    "            for e in range(len(comp_names_arr)):\n",
    "                C_group = C.get(comp_names_arr[e])\n",
    "                C_group_arr.append(C_group)\n",
    "               \n",
    "                data_arr_2 =[]\n",
    "                for j in range(len(list(C_group.keys()))):\n",
    "                    dataset = C_group.get(str(interval_arr[j]))\n",
    "                    \n",
    "                    data_arr = []\n",
    "                    for d in range(len(list(dataset))):\n",
    "                        data_arr.append(dataset[d])\n",
    "                    \n",
    "                    data_arr_2.append(data_arr)\n",
    "            \n",
    "                    if t_arr_bool == True:\n",
    "                        t_arr.append(data_arr[0])         \n",
    "                \n",
    "                master_arr.append(data_arr_2)\n",
    "                t_arr_bool = False\n",
    "                \n",
    "            \n",
    "            #df_start['radius'] = \n",
    "            \n",
    "            E = hdf.get('ELECTRODIFFUSION')\n",
    "            E_group_arr = list(E.keys())\n",
    "            ED_master_arr = []            \n",
    "            \n",
    "            ##### LOADING ELECTRODIFFUSION DATA\n",
    "            for x in range(len(E_group_arr)): # Looping through the electrodiffusion groups on the file\n",
    "                \n",
    "                E_group = E.get(E_group_arr[x])\n",
    "                \n",
    "                ED_data_arr =[] #stores the electrodiffusion data for a group\n",
    "                \n",
    "                for y in range(len(list(E_group.keys()))-1): # Looping through all the datasets of the group\n",
    "                    \n",
    "                    dataset = E_group.get(str(interval_arr[y+1]))\n",
    "                   \n",
    "                    ED_data_arr_2 = [] #stores the dataset values for one dataset\n",
    "                    for z in range(len(list(dataset))): # Looping through the individual datasets to extract data\n",
    "                        ED_data_arr_2.append(dataset[z])\n",
    "                    \n",
    "                    \n",
    "                    ED_data_arr.append(ED_data_arr_2) \n",
    "                    \n",
    "            \n",
    "                ED_master_arr.append(ED_data_arr) #contains all the electrodiffusion data for all the groups (1st index is the group, 2nd index is the interval)\n",
    "            \n",
    "            \n",
    "        ################\n",
    "        # DATAFRAMES\n",
    "        ################\n",
    "    \n",
    "        # START VALUE DATAFRAME\n",
    "        df_start_data = [master_arr[i][0][1:9] for i in range(len(comp_names_arr))]\n",
    "        df_start=pd.DataFrame(data=df_start_data, index=comp_names_arr)\n",
    "        df_start.columns = ['Radius', 'Length', 'Volume', 'Na_i', 'K_i', 'Cl_i','X_i','z_i']\n",
    "        \n",
    "        # END VALUE DATAFRAME\n",
    "        df_end_data = [master_arr[i][-1][1:9] for i in range(len(comp_names_arr))]\n",
    "        for i in range(len(comp_names_arr)):\n",
    "            df_end_data[i].append(master_arr[i][-1][-3]*1e3) #vm\n",
    "            df_end_data[i].append(master_arr[i][-1][-2]*1e3) #ek\n",
    "            df_end_data[i].append(master_arr[i][-1][-1]*1e3) #ecl\n",
    "            df_end_data[i].append((master_arr[i][-1][-3]-master_arr[i][-1][-1])*1e3) #driving force\n",
    "            \n",
    "        df_end=pd.DataFrame(data=df_end_data,index=comp_names_arr)\n",
    "        df_end.columns = ['Radius', 'Length', 'Volume', 'Na_i', 'K_i', 'Cl_i','X_i','z_i','Vm (mV)','Ek (mV)','ECl (mV)','Cl-Driving force (mV)']\n",
    "        \n",
    "        \n",
    "        # END TRANSMEMBRANE FLUX DATAFRAME\n",
    "        \n",
    "        final_mol_data =  [master_arr[i][-1][9:19]  for i in range(len(comp_names_arr))]\n",
    "        #semifinal_mol_data =  [master_arr[i][-2][9:19]  for i in range(len(comp_names_arr))]\n",
    "        \n",
    "        df_end_flux_data = []\n",
    "        \n",
    "    \n",
    "        for i in range(len(final_mol_data)):\n",
    "            temp_arr =[]\n",
    "            for j in range(len(final_mol_data[i])):\n",
    "                final_mol_data[i][j] = final_mol_data[i][j] * master_arr[i][-1][3]\n",
    "                #semifinal_mol_data[i][j] = semifinal_mol_data[i][j] * master_arr[i][-2][3]\n",
    "                #temp_arr.append(final_mol_data[i][j]-semifinal_mol_data[i][j])\n",
    "            #df_end_flux_data.append(temp_arr)\n",
    "            \n",
    "            \n",
    "        df_end_flux_cols = ['Na_net', 'Na_leak','Na_Atpase', 'K_net','K_leak','K_Atpase','K_kcc2', 'Cl_net','Cl_leak','Cl_kcc2']\n",
    "        df_end_flux = pd.DataFrame(data =final_mol_data, index = comp_names_arr, columns=df_end_flux_cols)\n",
    "        \n",
    "        # END ELECTRODIFFUSION DATAFRAME\n",
    "        df_end_ed_data = [ED_master_arr[i][-1][0:3] for i in range(len(ED_master_arr))]\n",
    "        for i in range(len(df_end_ed_data)):\n",
    "            for j in range(3):\n",
    "                df_end_ed_data[i][j] = df_end_ed_data[i][j] * master_arr[i][-1][3]\n",
    "                    \n",
    "        \n",
    "        df_end_ed_cols = ['Na_ED_flux', 'K_ED_flux', 'Cl_ED_flux']\n",
    "        df_end_ed = pd.DataFrame(data = df_end_ed_data, index = E_group_arr, columns=df_end_ed_cols)\n",
    "        \n",
    "        \n",
    "        \n",
    "        # NET FLUX DATAFRAME\n",
    "        na_net_arr, k_net_arr,cl_net_arr,x_net_arr,total_net_arr = [],[],[],[],[]\n",
    "       \n",
    "        for i in range(len(comp_names_arr)):\n",
    "            na_net_arr.append(df_end_flux.iloc[i][0])\n",
    "            k_net_arr.append(df_end_flux.iloc[i][3])\n",
    "            cl_net_arr.append(df_end_flux.iloc[i][7])\n",
    "\n",
    "        x_net_arr = [((master_arr[i][-1][7] * master_arr[i][-1][3]) -(master_arr[i][-2][7] * master_arr[i][-2][3]))  for i in range(len(comp_names_arr))]\n",
    "        #(master_arr[i][-2][7]- master_arr[i][-2][3]\n",
    "        \n",
    "        for j in range(len(E_group_arr)):\n",
    "            na_net_arr[j] = na_net_arr[j] - df_end_ed.iloc[j][0]\n",
    "            na_net_arr[j+1] = na_net_arr[j+1] + df_end_ed.iloc[j][0]\n",
    "            k_net_arr[j] = k_net_arr[j] - df_end_ed.iloc[j][1]\n",
    "            k_net_arr[j+1] = k_net_arr[j+1] + df_end_ed.iloc[j][1]\n",
    "            cl_net_arr[j] = cl_net_arr[j] + df_end_ed.iloc[j][2]\n",
    "            cl_net_arr[j+1] = cl_net_arr[j+1] - df_end_ed.iloc[j][2]\n",
    "\n",
    "        total_net_arr = [na_net_arr[a]+k_net_arr[a]-cl_net_arr[a]-x_net_arr[a] for a in range(len(comp_names_arr))]\n",
    "\n",
    "\n",
    "        df_end_net_flux = pd.DataFrame(data ={'Na-Net':na_net_arr, 'K-Net':k_net_arr,'Cl-Net':cl_net_arr,'X-Net':x_net_arr,'Total':total_net_arr }, index=comp_names_arr)     \n",
    "\n",
    "\n",
    "            \n",
    "    except: \n",
    "        raise(\"File not found\")\n",
    "        raise(\"File needs to be in base directory\")\n",
    "\n",
    "\n",
    "btn_select.on_click(btn_select_clicked)"
   ]
  },
  {
   "cell_type": "code",
   "execution_count": 4,
   "metadata": {},
   "outputs": [
    {
     "data": {
      "text/plain": [
       "<matplotlib.legend.Legend at 0x1cf8b5ed940>"
      ]
     },
     "execution_count": 4,
     "metadata": {},
     "output_type": "execute_result"
    },
    {
     "data": {
      "image/png": "[encoded data removed]",
      "text/plain": [
       "<Figure size 432x288 with 1 Axes>"
      ]
     },
     "metadata": {
      "needs_background": "light"
     },
     "output_type": "display_data"
    }
   ],
   "source": [
    "for j in range(len(master_arr)):\n",
    "    v_arr = [master_arr[j][i][-3] for i in range(len(t_arr))]\n",
    "    mplt.plot(t_arr[:],v_arr[:], label= comp_names_arr[j])\n",
    "\n",
    "mplt.legend()"
   ]
  },
  {
   "cell_type": "code",
   "execution_count": 5,
   "metadata": {},
   "outputs": [
    {
     "data": {
      "application/vnd.jupyter.widget-view+json": {
       "model_id": "b9fe487c7cab4dfa82cc0c3e24576887",
       "version_major": 2,
       "version_minor": 0
      },
      "text/plain": [
       "Button(button_style='success', description='Plot 4A', style=ButtonStyle())"
      ]
     },
     "metadata": {},
     "output_type": "display_data"
    }
   ],
   "source": [
    "######\n",
    "btn_plot_4a = widgets.Button(description=\"Plot 4A\", button_style='success')\n",
    "display(btn_plot_4a)\n",
    "#####\n",
    "\n",
    "\n",
    "\n",
    "def btn_plot_4a_clicked(b):\n",
    "    \n",
    " \n",
    "    f4a, [ax_1,ax_2, ax_3,ax_4, ax_5,ax_6,ax_7, ax_8,ax_9] = mplt.subplots(9,1,figsize=(2,10), sharex=True,sharey=True) \n",
    "    #f4a.tight_layout(pad=4.0)\n",
    "\n",
    " \n",
    "    v_arr = [master_arr[8][j][-3]*1e3 for j in range(len(master_arr[0]))]\n",
    "    ax_1.plot(t_arr, v_arr)\n",
    "    ax_1.set_ylim([-73,-67.5])\n",
    "    #ax_1.get_yaxis().set_visible(False)\n",
    "    v_arr = [master_arr[7][j][-3]*1e3 for j in range(len(master_arr[0]))]\n",
    "    ax_2.plot(t_arr, v_arr)\n",
    "    ax_2.set_ylim([-73,-67.5])\n",
    "    ax_2.get_yaxis().set_visible(False)\n",
    "    v_arr = [master_arr[6][j][-3]*1e3 for j in range(len(master_arr[0]))]\n",
    "    ax_3.plot(t_arr, v_arr)\n",
    "    ax_3.set_ylim([-73,-67.5])\n",
    "    ax_3.get_yaxis().set_visible(False)\n",
    "    v_arr = [master_arr[5][j][-3]*1e3 for j in range(len(master_arr[0]))]\n",
    "    ax_4.plot(t_arr, v_arr)\n",
    "    ax_4.set_ylim([-73,-67.5])\n",
    "    ax_4.get_yaxis().set_visible(False)\n",
    "    v_arr = [master_arr[4][j][-3]*1e3 for j in range(len(master_arr[0]))]\n",
    "    ax_5.plot(t_arr, v_arr)\n",
    "    ax_5.set_ylim([-73,-67.5])\n",
    "    ax_5.get_yaxis().set_visible(False)\n",
    "    v_arr = [master_arr[3][j][-3]*1e3 for j in range(len(master_arr[0]))]\n",
    "    ax_6.plot(t_arr, v_arr)\n",
    "    ax_6.set_ylim([-73,-67.5])\n",
    "    ax_6.get_yaxis().set_visible(False)\n",
    "    v_arr = [master_arr[2][j][-3]*1e3 for j in range(len(master_arr[0]))]\n",
    "    ax_7.plot(t_arr, v_arr)\n",
    "    ax_7.set_ylim([-73,-67.5])\n",
    "    ax_7.get_yaxis().set_visible(False)\n",
    "    v_arr = [master_arr[1][j][-3]*1e3 for j in range(len(master_arr[0]))]\n",
    "    ax_8.plot(t_arr, v_arr)\n",
    "    ax_8.set_ylim([-73,-67.5])\n",
    "    ax_8.get_yaxis().set_visible(False)\n",
    "    v_arr = [master_arr[0][j][-3]*1e3 for j in range(len(master_arr[0]))]\n",
    "    ax_9.plot(t_arr, v_arr)\n",
    "    ax_9.set_ylim([-73,-67.5])\n",
    "    ax_9.get_yaxis().set_visible(False)\n",
    "    sns.despine()\n",
    "\n",
    "        \n",
    "    \"\"\"\n",
    "    xconc_8_arr = [mega_arr[i][7][-1][7]*1e3 for i in range(len(mega_arr))]\n",
    "    xconc_4_arr = [mega_arr[i][3][-1][7]*1e3 for i in range(len(mega_arr))]\n",
    "    vol_8_arr = [mega_arr[i][7][-1][3]*1e15 for i in range(len(mega_arr))]\n",
    "    vol_4_arr = [mega_arr[i][3][-1][3]*1e15 for i in range(len(mega_arr))]\n",
    "    vm_8_arr = [mega_arr[i][7][-1][-3]*1e3 for i in range(len(mega_arr))]\n",
    "    vm_4_arr = [mega_arr[i][3][-1][-3]*1e3 for i in range(len(mega_arr))]\n",
    "    \n",
    "    \n",
    "    #ax_x.set_title(\"Compartment 8\")\n",
    "    ax_x.plot(z_arr,xconc_8_arr,linestyle='-',marker='o')\n",
    "    ax_x.plot(z_arr,xconc_4_arr,linestyle='-.',marker='x')\n",
    "    ax_x.set_ylabel(\"Impermeant anion conc. (mM)\")\n",
    "    ax_x.grid()\n",
    "    \n",
    "    ax_vol.plot(z_arr,vol_8_arr,linestyle='-',marker='o')\n",
    "    ax_vol.plot(z_arr,vol_4_arr,linestyle='-.',marker='x')\n",
    "    ax_vol.set_ylabel(\"Volume (pl *1e3)\")\n",
    "    ax_vol.grid()\n",
    "    \n",
    "    ax_vm.plot(z_arr,vm_8_arr,linestyle='-',marker='o')\n",
    "    ax_vm.plot(z_arr,vm_4_arr,linestyle='-.',marker='x')\n",
    "    ax_vm.set_ylabel(\"Membrane potential (mV)\")\n",
    "    ax_vm.grid()\n",
    "    \n",
    "    sns.despine()\n",
    "    \"\"\"\n",
    "    \n",
    "#####\n",
    "btn_plot_4a.on_click(btn_plot_4a_clicked)"
   ]
  },
  {
   "cell_type": "code",
   "execution_count": 20,
   "metadata": {},
   "outputs": [
    {
     "data": {
      "application/vnd.jupyter.widget-view+json": {
       "model_id": "9b5c997e47214729ad16baa3b75eefb2",
       "version_major": 2,
       "version_minor": 0
      },
      "text/plain": [
       "Button(button_style='success', description='Plot 4B', style=ButtonStyle())"
      ]
     },
     "metadata": {},
     "output_type": "display_data"
    },
    {
     "name": "stdout",
     "output_type": "stream",
     "text": [
      "9\n"
     ]
    },
    {
     "data": {
      "image/png": "[encoded data removed]",
      "text/plain": [
       "<Figure size 432x288 with 2 Axes>"
      ]
     },
     "metadata": {
      "needs_background": "light"
     },
     "output_type": "display_data"
    }
   ],
   "source": [
    "######\n",
    "btn_plot_4b = widgets.Button(description=\"Plot 4B\", button_style='success')\n",
    "display(btn_plot_4b)\n",
    "#####\n",
    "vm_arr =[]\n",
    "\n",
    "\n",
    "def btn_plot_4b_clicked(b):\n",
    "\n",
    "    for i in range(len(comp_names_arr),0,-1):\n",
    "        \n",
    "        temp_arr_vm = [master_arr[i-1][j][-3]*1e3 for j in range(len(master_arr[0]))] \n",
    "        temp_arr_vm = temp_arr_vm[700:1400:20]\n",
    "        vm_arr.append(temp_arr_vm)\n",
    "\n",
    " \n",
    "    g_vm = sns.heatmap(vm_arr,cmap=\"Reds_r\",xticklabels=False,  cbar_kws={'pad':0.05,'label':'Voltage(mV)', 'orientation':'horizontal' },linewidth=0.01 )\n",
    "    g_vm.set_ylabel(\"Compartment\",fontsize=10)\n",
    "    g_vm.set_yticklabels(comp_names_arr[::-1], fontsize=8, rotation=0)\n",
    "    #left_ax_vm.set_title(\"Vm in each compartment\",fontsize=10)    \n",
    "    \n",
    "    \n",
    "    sns.despine()\n",
    "#####\n",
    "btn_plot_4b.on_click(btn_plot_4b_clicked)"
   ]
  },
  {
   "cell_type": "markdown",
   "metadata": {},
   "source": [
    "## Time constant\n"
   ]
  },
  {
   "cell_type": "code",
   "execution_count": 87,
   "metadata": {},
   "outputs": [
    {
     "name": "stdout",
     "output_type": "stream",
     "text": [
      "Vmax: -66.90811426980841mV\n",
      "Time of Vmax: 0.10013300000007948s\n",
      "---------\n",
      "Vmin: -72.5732503782873mV\n",
      "Time of Vmin: 0.2741329999995836s\n",
      "---------\n",
      "Vtau: -70.68483390788694mV\n",
      "Time of Vtau: 0.10160000000008095s\n",
      "---------\n",
      "---------\n",
      "Tau = 1.4670000000014671ms\n",
      "---------\n",
      "---------\n"
     ]
    },
    {
     "data": {
      "image/png": "[encoded data removed]",
      "text/plain": [
       "<Figure size 432x288 with 1 Axes>"
      ]
     },
     "metadata": {
      "needs_background": "light"
     },
     "output_type": "display_data"
    }
   ],
   "source": [
    "v_arr = [master_arr[8][i][-3]*1e3 for i in range(len(t_arr))]\n",
    "mplt.plot(t_arr[700:1200],v_arr[700:1200], label= comp_names_arr[8])\n",
    "mplt.ylabel(\"Membrane potential (mV)\")\n",
    "mplt.xlabel(\"Time (s)\")\n",
    "mplt.legend()\n",
    "global vmax_index, vmax, vtau,tau\n",
    "\n",
    "vmax = v_arr[0]\n",
    "vmin = v_arr[1000]\n",
    "vmax_index = 0\n",
    "vmin_index = 2000\n",
    "\n",
    "\n",
    "for i in range(len(v_arr)):\n",
    "    if vmax<v_arr[i]:\n",
    "        vmax = v_arr[i]\n",
    "        vmax_index = i\n",
    "    if i>2000 and round(vmin,4)>round(v_arr[i],4): \n",
    "        vmin = v_arr[i]\n",
    "        vmin_index = i\n",
    "    \n",
    "print(\"Vmax: \" + str(vmax) +\"mV\")\n",
    "print(\"Time of Vmax: \" + str(t_arr[vmax_index]) + \"s\")\n",
    "print(\"---------\")\n",
    "print(\"Vmin: \" + str(vmin) +\"mV\")\n",
    "print(\"Time of Vmin: \" + str(t_arr[vmin_index]) + \"s\")\n",
    "print(\"---------\")\n",
    "\n",
    "vdiff = vmax-vmin\n",
    "vtau = vmax - 0.66666*(vdiff)\n",
    "vtau_index = 0\n",
    "\n",
    "\n",
    "for j in range(len(v_arr)):\n",
    "    if round(v_arr[j],1) == round(vtau,1):\n",
    "        vtau_index = j\n",
    "\n",
    "print(\"Vtau: \" + str(vtau) +\"mV\")\n",
    "print(\"Time of Vtau: \" + str(t_arr[vtau_index]) + \"s\")\n",
    "\n",
    "tau = t_arr[vtau_index] - t_arr[vmax_index]\n",
    "print(\"---------\")\n",
    "print(\"---------\")\n",
    "print(\"Tau = \" + str(tau*1e3) +\"ms\")\n",
    "print(\"---------\")\n",
    "print(\"---------\")"
   ]
  },
  {
   "cell_type": "markdown",
   "metadata": {},
   "source": [
    "## Length constant"
   ]
  },
  {
   "cell_type": "code",
   "execution_count": 86,
   "metadata": {},
   "outputs": [
    {
     "name": "stdout",
     "output_type": "stream",
     "text": [
      "--------\n",
      "Line of Best fit: y = 0.984(logx)^2 -9.307(logx) -50.667\n",
      "--------\n",
      "Vmax: -66.91mV\n",
      "V-lambda: -70.68mV\n",
      "---------\n",
      "Length constant: 27.37um\n"
     ]
    },
    {
     "data": {
      "image/png": "[encoded data removed]",
      "text/plain": [
       "<Figure size 720x432 with 2 Axes>"
      ]
     },
     "metadata": {
      "needs_background": "light"
     },
     "output_type": "display_data"
    }
   ],
   "source": [
    "v_arr = []\n",
    "len_arr = [10,30,50,70,90,110,130,150,170]\n",
    "\n",
    "global x_lambda\n",
    "\n",
    "for i in range(len(comp_names_arr),0,-1):\n",
    "    v_arr.append(master_arr[i-1][vmax_index][-3]*1e3)\n",
    "\n",
    "\n",
    "\n",
    "\n",
    "x_data = np.array(len_arr)\n",
    "y_data = np.array(v_arr)\n",
    "log_x_data = np.log(x_data)\n",
    "#log_y_data=np.log(y_data)\n",
    "[a,b,c] = np.polyfit(log_x_data, y_data, 2)\n",
    "y_bestfit = a * (log_x_data**2) + b*log_x_data +c\n",
    "\n",
    "\n",
    "f_lenconstant, [ax_1,ax_2] = mplt.subplots(1,2,figsize=(10,6), sharex=False,sharey=True) \n",
    "\n",
    "ax_1.plot(len_arr,v_arr,\"bo\",)\n",
    "ax_1.set_ylabel(\"Membrane potential (mV)\")\n",
    "ax_1.set_xlabel(\"Dendrite length(um)\")\n",
    "\n",
    "ax_2.plot(log_x_data, y_data,'bo')\n",
    "ax_2.plot(log_x_data, y_bestfit,'r')\n",
    "ax_2.set_xlabel(\"Log Dendrite length(um)\")\n",
    "\n",
    "x = symbols('x')\n",
    "eq1 = Eq(a * (x)**2 + b*x +c,vtau)\n",
    "sol = solve(eq1)\n",
    "log_x_lambda = float(sol[0])\n",
    "x_lambda = np.exp(log_x_lambda)\n",
    "\n",
    "ax_1.plot(x_lambda, vtau,'go')\n",
    "ax_2.plot(log_x_lambda, vtau,'go')\n",
    "\n",
    "print('--------')\n",
    "print('Line of Best fit: y = '+str(round(a,3))+'(logx)^2 ' + str(round(b,3))+'(logx) '+str(round(c,3)))\n",
    "print('--------')\n",
    "print(\"Vmax: \" + str(round(vmax,2)) +\"mV\")\n",
    "print(\"V-lambda: \" + str(round(vtau,2)) +\"mV\")\n",
    "print(\"---------\")\n",
    "print(\"Length constant: \" + str(round(x_lambda,2)) + 'um')"
   ]
  },
  {
   "cell_type": "markdown",
   "metadata": {},
   "source": [
    "## Passive Neuron Properties\n"
   ]
  },
  {
   "cell_type": "code",
   "execution_count": 112,
   "metadata": {},
   "outputs": [
    {
     "name": "stdout",
     "output_type": "stream",
     "text": [
      "---------------------------\n",
      "PASSIVE NEURON PROPERTIES\n",
      "---------------------------\n",
      "Lambda (Length constant): 27.37 um\n",
      "Tau (time constant): 1.47 ms\n",
      "Cm: 2.0 uF/cm2 --> Default\n",
      "Rm: 733.5 ohm.cm2 --> Calculated via time constant\n",
      "Ri: 97935232.73 ohm.cm --> Calculated via length constant\n"
     ]
    }
   ],
   "source": [
    "cm = 2*1e-6 #F/cm2\n",
    "\n",
    "# tau = cm * rm\n",
    "rm = tau/cm\n",
    "\n",
    "diam = 1 #1um\n",
    "diam = diam*1e-4 #cm\n",
    "\n",
    "ri = symbols(\"ri\")\n",
    "eq2 = Eq( ((rm)/(ri))**0.5 , x_lambda*1e-4)\n",
    "sol = solve(eq2)\n",
    "ri = float(sol[0])\n",
    "\n",
    "print('---------------------------')\n",
    "print('PASSIVE NEURON PROPERTIES')\n",
    "print('---------------------------')\n",
    "print(\"Lambda (Length constant): \" + str(round(x_lambda,2))+\" um\")\n",
    "print(\"Tau (time constant): \" + str(round(tau*1e3,2))+\" ms\")\n",
    "print(\"Cm: \" + str(cm*1e6)+\" uF/cm2 --> Default\")\n",
    "print(\"Rm: \" + str(round(rm,2))+\" ohm.cm2 --> Calculated via time constant\")\n",
    "print(\"Ri: \" + str(round(ri,2))+ ' ohm.cm --> Calculated via length constant')"
   ]
  },
  {
   "cell_type": "code",
   "execution_count": null,
   "metadata": {},
   "outputs": [],
   "source": []
  }
 ],
 "metadata": {
  "kernelspec": {
   "display_name": "Python 3 (ipykernel)",
   "language": "python",
   "name": "python3"
  },
  "language_info": {
   "codemirror_mode": {
    "name": "ipython",
    "version": 3
   },
   "file_extension": ".py",
   "mimetype": "text/x-python",
   "name": "python",
   "nbconvert_exporter": "python",
   "pygments_lexer": "ipython3",
   "version": "3.9.7"
  }
 },
 "nbformat": 4,
 "nbformat_minor": 4
}
