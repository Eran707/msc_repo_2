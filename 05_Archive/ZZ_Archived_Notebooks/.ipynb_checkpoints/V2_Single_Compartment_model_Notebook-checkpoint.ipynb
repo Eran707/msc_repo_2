{
 "cells": [
  {
   "cell_type": "markdown",
   "metadata": {
    "colab_type": "text",
    "id": "view-in-github"
   },
   "source": [
    "<a href=\"https://colab.research.google.com/github/Eran707/MSc-Computational-Neuroscience-Repo/blob/master/V2_Single_Compartment_model_Notebook.ipynb\" target=\"_parent\"><img src=\"https://colab.research.google.com/assets/colab-badge.svg\" alt=\"Open In Colab\"/></a>"
   ]
  },
  {
   "cell_type": "markdown",
   "metadata": {
    "colab_type": "text",
    "id": "Ws7sj99GPFLG"
   },
   "source": [
    "# Single compartment pump leak model\n",
    "\n",
    "Coded by Eran Shorer (piggybacking on Kira Dusterwald and Alan Kay)"
   ]
  },
  {
   "cell_type": "markdown",
   "metadata": {
    "colab_type": "text",
    "id": "Gy8QPBq9PFLI"
   },
   "source": [
    "## Introduction\n",
    "\n",
    "Herein I attempt to model the dynamics of a single neuron with emphasis Chloride homeostasis to better understand processes occuring in epilepsy. \n",
    "\n",
    "A Neuron is a type of cell in the nervous system that is able to communicate with other neurons via electrochemical signals. \n",
    "The trillions of communications that occur in the brain give rise to complex animal behaviours.\n",
    "Errors in this signalling pathway therefore can lead disorders in the nervous system.\n",
    "To understand how a network of cells function we can start off by understanding the dynamics of a single neuron. \n",
    "\n",
    "\n",
    "\n"
   ]
  },
  {
   "cell_type": "markdown",
   "metadata": {
    "colab_type": "text",
    "id": "mvsT0QVmUIch"
   },
   "source": [
    "![alt text](https://drive.google.com/uc?id=1GT7WU9e0qYCdLHlDstU_SonNyBc5PP3b)"
   ]
  },
  {
   "cell_type": "markdown",
   "metadata": {
    "colab_type": "text",
    "id": "81kk5xaMWQZ_"
   },
   "source": [
    "Above we have the cell body of a single neuron. \n",
    "\n",
    "(A) Ions:\n",
    "\n",
    "\n",
    "*   Sodium (Na), charge of +1\n",
    "*   Potassium (K), charge of +1\n",
    "*   Chloride (Cl), charge of -1\n",
    "*   Impermeant anions (X) charge of z\n",
    "\n",
    "(B) ATPase: \n",
    "\n",
    "ATP dependant Sodium Potassium Pump which pumps 3 Na out of the neuron for every 2 K it pumps in.\n",
    "\n",
    "(C) KCC2:\n",
    "\n",
    "Potassium-Chloride Cotransporter 2. Pumps out potassium and chloride.\n",
    "\n"
   ]
  },
  {
   "cell_type": "markdown",
   "metadata": {
    "colab_type": "text",
    "id": "S2qrKey9PFLI"
   },
   "source": [
    "## Module installation:\n",
    "\n",
    "numpy - for mathematical operations\n",
    "matplotlib - for graphing\n",
    "seaborn - for graphing"
   ]
  },
  {
   "cell_type": "code",
   "execution_count": 1,
   "metadata": {
    "colab": {
     "base_uri": "https://localhost:8080/",
     "height": 35
    },
    "colab_type": "code",
    "id": "pmknOJZnPFLJ",
    "outputId": "e4cd0a3a-2b02-4ea5-b482-b808db24bca2"
   },
   "outputs": [
    {
     "name": "stdout",
     "output_type": "stream",
     "text": [
      "modules installed\n"
     ]
    }
   ],
   "source": [
    "import numpy as np\n",
    "import matplotlib.pyplot as plt\n",
    "import seaborn as sns\n",
    "print('modules installed')"
   ]
  },
  {
   "cell_type": "markdown",
   "metadata": {
    "colab_type": "text",
    "id": "Y3tSOQIMPFLU"
   },
   "source": [
    "## Constants:\n",
    "\n",
    "R = Gas Constant\n",
    "F = Faradays Constant\n",
    "T = Temperature in Kelvin\n",
    "RTF is used as a combined variable\n"
   ]
  },
  {
   "cell_type": "code",
   "execution_count": 2,
   "metadata": {
    "colab": {
     "base_uri": "https://localhost:8080/",
     "height": 35
    },
    "colab_type": "code",
    "id": "LG87vNA9PFLV",
    "outputId": "9f41871c-3146-485e-b47a-e441dd084a42"
   },
   "outputs": [
    {
     "name": "stdout",
     "output_type": "stream",
     "text": [
      "Constants set\n"
     ]
    }
   ],
   "source": [
    "R = 8.31466  # J/(Kelvin.mol) #Universal Gas Constant\n",
    "F = 96485.33 #C/mol # Faraday Constant in Volts\n",
    "T = 310.15   #Kelvin # Absolute temperature (37C)\n",
    "RTF = R*T/F  # J/C\n",
    "print('Constants set')"
   ]
  },
  {
   "cell_type": "markdown",
   "metadata": {
    "colab_type": "text",
    "id": "ajykeC2DPFLc"
   },
   "source": [
    "## Parameters:\n",
    "\n",
    "### Cellular dimensions\n",
    "We will be using a sphere as the model of the cell. \n",
    "The area of the sphere (SA) will be fixed but the volume (w) will change based on the osmotic properties of the cell.\n",
    "C_m refers to the membrane capacitance and the FinvCSA is a composite parameter.\n"
   ]
  },
  {
   "cell_type": "markdown",
   "metadata": {
    "colab_type": "text",
    "id": "Op90SBN-PFLd"
   },
   "source": [
    "![alt text](https://drive.google.com/uc?id=1G0SIsSn9tm8BjiREZz3ttojXAurrEjkj)"
   ]
  },
  {
   "cell_type": "code",
   "execution_count": 3,
   "metadata": {
    "colab": {},
    "colab_type": "code",
    "id": "doGHcTBkPFLd"
   },
   "outputs": [],
   "source": [
    "rad = 5*1e-5            #Radius of the single compartment (um converted to dm)\n",
    "w = (4/3)*np.pi*rad**3  #L #Volume of a single compartment (Sphere)\n",
    "SA = 4*np.pi*rad**2     #dm^2 #Surface area of a sphere \n",
    "C_m = 1e-4              #(F/dm^2) #Unit of membrane capacitance\n",
    "FinvCSA = F/(C_m*SA)"
   ]
  },
  {
   "cell_type": "markdown",
   "metadata": {
    "colab_type": "text",
    "id": "R83FAfcDPFLh"
   },
   "source": [
    "Q: Why are we using a sphere and not a cylinder?\n"
   ]
  },
  {
   "cell_type": "markdown",
   "metadata": {
    "colab_type": "text",
    "id": "FWfK2WrvPFLh"
   },
   "source": [
    "### Ionic properties \n",
    "\n",
    "Here I will define the baseline Osmolarity and hence calculate the concentrations of the ions of interest (Na+, K+, Cl-, and X(impermeant anions)). Both the extracellular and intracellular osmolarities are calculated here.\n",
    "We start by setting the osmolarity to be 300 x 10^-3 Molar. \n",
    "Omsols of negative and positive ions must be 150 X10^-3 Molar respectively. "
   ]
  },
  {
   "cell_type": "code",
   "execution_count": 4,
   "metadata": {
    "colab": {
     "base_uri": "https://localhost:8080/",
     "height": 272
    },
    "colab_type": "code",
    "id": "5sItYXg0PFLi",
    "outputId": "43b6f2e4-3290-42f0-a4f7-766e5cf3de53"
   },
   "outputs": [
    {
     "name": "stdout",
     "output_type": "stream",
     "text": [
      "Extracellular concentrations: (Molar)\n",
      "---------------------\n",
      "Na:  0.147\n",
      "K:  0.003\n",
      "Cl:  0.15\n",
      "X:  0\n",
      "\n",
      "Intracellular concentrations: (Molar)\n",
      "---------------------\n",
      "Na:  0.12000000000000002\n",
      "K:  0.030000000000000006\n",
      "Cl:  0.09999999999999999\n",
      "X:  0.05\n",
      "\n"
     ]
    }
   ],
   "source": [
    "OsmolO = 300e-3     #M #Fixed osmolarity\n",
    "\n",
    "ConcO_K = 3e-3      #M \n",
    "ConcO_X = 0         #M #No anions outside cell\n",
    "zO_X = 0            #charge of extracellular anions\n",
    "ConcO_Cl=(OsmolO-ConcO_X)/2 # calc clo from charge and osmotic balance \n",
    "ConcO_Na = ConcO_Cl-ConcO_K-ConcO_X*zO_X # calc nao \n",
    "\n",
    "ConcI_X = 50*1e-3   #Concentration of intracellular anion (M)\n",
    "ConcI_Cl = (OsmolO - 2*ConcI_X)/2\n",
    "ConcI_Na = 0.8*(OsmolO-ConcI_Cl-ConcI_X)\n",
    "ConcI_K = 0.2*(OsmolO-ConcI_Cl-ConcI_X)\n",
    "\n",
    "print(\"Extracellular concentrations: (Molar)\")\n",
    "print(\"---------------------\")\n",
    "print('Na: ',ConcO_Na)\n",
    "print('K: ',ConcO_K)\n",
    "print('Cl: ', ConcO_Cl)\n",
    "print('X: ', ConcO_X)\n",
    "print(\"\")\n",
    "print(\"Intracellular concentrations: (Molar)\")\n",
    "print(\"---------------------\")\n",
    "print('Na: ',ConcI_Na)\n",
    "print('K: ',ConcI_K)\n",
    "print('Cl: ', ConcI_Cl)\n",
    "print('X: ', ConcI_X)\n",
    "print(\"\")"
   ]
  },
  {
   "cell_type": "markdown",
   "metadata": {
    "colab_type": "text",
    "id": "05TAiS_1PFLl"
   },
   "source": [
    "### Channel and pump properties"
   ]
  },
  {
   "cell_type": "code",
   "execution_count": 5,
   "metadata": {
    "colab": {},
    "colab_type": "code",
    "id": "zRYCMoWKPFLm"
   },
   "outputs": [],
   "source": [
    "g_Na = 0.01*0.1/F # S/dm2 #Na Leak conductance ### Not too sure why I need to / by F (according to Kira and Alan)\n",
    "g_K = 0.3*0.1/F     # S/dm2 #K Leak conductance\n",
    "g_Cl = 0.2*0.1/F   # S/dm2 #Cl Leak conductance\n",
    "\n",
    "curr = -0*5e-8; #Baseline no current injected\n",
    "p = 0.5e-4/F # Alan's pump rate (C/dm^2)\n",
    "g_KCC2 = 2e-3/F #KCC2 conductance from Kira's code"
   ]
  },
  {
   "cell_type": "markdown",
   "metadata": {
    "colab_type": "text",
    "id": "EdJ8d_JePFLt"
   },
   "source": [
    "## Variable initialization:\n"
   ]
  },
  {
   "cell_type": "markdown",
   "metadata": {
    "colab_type": "text",
    "id": "bB9YOHsSPFLu"
   },
   "source": [
    "### Timing related variables"
   ]
  },
  {
   "cell_type": "code",
   "execution_count": 6,
   "metadata": {
    "colab": {
     "base_uri": "https://localhost:8080/",
     "height": 90
    },
    "colab_type": "code",
    "id": "K28cMJpbPFLw",
    "outputId": "0dc5579a-6acd-4be5-c4f1-01e6e31a7f5c"
   },
   "outputs": [
    {
     "name": "stdout",
     "output_type": "stream",
     "text": [
      "Simulation will run for  10000  seconds\n",
      "The timestep will be 0.001 seconds\n",
      "The ATPase pump is switched on at 0 seconds\n",
      "The ATPase pump is switched off at 5000 seconds\n"
     ]
    }
   ],
   "source": [
    "#### - Timing related variables\n",
    "t = 1               # real time in seconds\n",
    "totalt = 10000          # total time\n",
    "dt = 1e-3           # time step\n",
    "t_on = 0            # time when the ATPase is switched on\n",
    "t_off = 5000        # time when the ATPase is switched off\n",
    "totalsteps = round(totalt/dt)  # total number of time steps\n",
    "sw = 0              # 0 = switch off; 1 = switch on\n",
    "ctr = 1     # counter for plotting \n",
    "n = 200     # number of plot points\n",
    "ts = totalt/n   # time interval for plotting\n",
    "\n",
    "print('Simulation will run for ',totalt,' seconds') \n",
    "print('The timestep will be', dt, 'seconds')\n",
    "print('The ATPase pump is switched on at', t_on, 'seconds')\n",
    "print('The ATPase pump is switched off at', t_off, 'seconds')"
   ]
  },
  {
   "cell_type": "markdown",
   "metadata": {
    "colab_type": "text",
    "id": "jz-2lIASPFL5"
   },
   "source": [
    "### Array initialization"
   ]
  },
  {
   "cell_type": "code",
   "execution_count": 7,
   "metadata": {
    "colab": {
     "base_uri": "https://localhost:8080/",
     "height": 35
    },
    "colab_type": "code",
    "id": "yaU2liVHPFL5",
    "outputId": "2bc86992-7c8f-436c-ab0a-ae1866d4bfcd"
   },
   "outputs": [
    {
     "name": "stdout",
     "output_type": "stream",
     "text": [
      "All arrays are empty to begin with\n"
     ]
    }
   ],
   "source": [
    "Na_Arr = []\n",
    "K_Arr = []\n",
    "Cl_Arr = []\n",
    "X_Arr = []\n",
    "Vm_Arr = []\n",
    "t_Arr = []           \n",
    "w_Arr = []\n",
    "\n",
    "print('All arrays are empty to begin with')"
   ]
  },
  {
   "cell_type": "markdown",
   "metadata": {
    "colab_type": "text",
    "id": "nIZd5eeGPFL9"
   },
   "source": [
    "# Simulation "
   ]
  },
  {
   "cell_type": "markdown",
   "metadata": {
    "colab_type": "text",
    "id": "vJ35WdSsPFL-"
   },
   "source": [
    "### Calculating the starting voltage"
   ]
  },
  {
   "cell_type": "code",
   "execution_count": 9,
   "metadata": {
    "colab": {
     "base_uri": "https://localhost:8080/",
     "height": 35
    },
    "colab_type": "code",
    "id": "CwZHjax4PFMA",
    "outputId": "99673dd6-98e8-462c-b012-5c68ba02d982"
   },
   "outputs": [
    {
     "name": "stdout",
     "output_type": "stream",
     "text": [
      "Starting voltage of 4.4633431210231817e-13 mV\n"
     ]
    }
   ],
   "source": [
    "Vm = FinvCSA*w*(ConcI_Na+ConcI_K-ConcI_Cl-ConcI_X) \n",
    "print('Starting voltage of', Vm, 'mV')"
   ]
  },
  {
   "cell_type": "markdown",
   "metadata": {
    "colab_type": "text",
    "id": "Q_vtV14HPFMG"
   },
   "source": [
    "### Looping through time"
   ]
  },
  {
   "cell_type": "code",
   "execution_count": null,
   "metadata": {
    "colab": {},
    "colab_type": "code",
    "id": "wimk7aA5PFMH"
   },
   "outputs": [],
   "source": [
    "for i in range(1,totalsteps):  #note tit = total number of timesteps\n",
    "     \n",
    "    #Determining switch position of ATPase\n",
    "    if (t<t_off) & (t>t_on): \n",
    "        sw=1 \n",
    "    else: \n",
    "        sw=0\n",
    "            \n",
    "    # Voltage Calculation \n",
    "    Vm = FinvCSA*w*(ConcI_Na+ConcI_K-ConcI_Cl-ConcI_X) \n",
    "    EK = RTF*np.log(ConcO_K/ConcI_K)\n",
    "    ECl = RTF*np.log(ConcO_Cl/ConcI_Cl)\n",
    "    JKCC2 = g_KCC2*(EK-ECl)\n",
    "        \n",
    "    #Incrementing Ion concentration    \n",
    "    d_Na = -dt*SA*(1/w)*(g_Na*(Vm-RTF*np.log(ConcO_Na/ConcI_Na)) + sw*3*p) \n",
    "    d_K = -dt*SA*(1/w)*(g_K*(Vm-RTF*np.log(ConcO_K/ConcI_K)-JKCC2)+sw*2*p+sw*curr) \n",
    "    d_Cl = dt*SA*(1/w)*(g_Cl*(Vm+RTF*np.log(ConcO_Cl/ConcI_Cl))+JKCC2)\n",
    "    ConcI_Na += d_Na    \n",
    "    ConcI_K += d_K\n",
    "    ConcI_Cl += d_Cl      \n",
    "     \n",
    "    #Osmolarity and volume adjustments\n",
    "    OsmolI = ConcI_Na+ConcI_K+ConcI_Cl+ConcI_X\n",
    "    w2 = w*(OsmolI/OsmolO)\n",
    "    \n",
    "    #Adjusting Concentrations based on new volumes\n",
    "    ConcI_Na *= w/w2\n",
    "    ConcI_K *= w/w2\n",
    "    ConcI_Cl *= w/w2\n",
    "    ConcI_X *= w/w2\n",
    "    \n",
    "    #Updating Arrays and counters\n",
    "    w = w2\n",
    "    \n",
    "    if t >= ctr*ts :\n",
    "        Vm_Arr.append(Vm*1e3)\n",
    "        K_Arr.append(ConcI_K*1e3)\n",
    "        Na_Arr.append(ConcI_Na*1e3)\n",
    "        Cl_Arr.append(ConcI_Cl*1e3)\n",
    "        X_Arr.append(ConcI_X*1e3)\n",
    "        w_Arr.append(100*(1e5)*((3/(4*np.pi))*w)**(1/3))\n",
    "        t_Arr.append(t)\n",
    "        ctr += 1\n",
    "    \n",
    "        \n",
    "    t = t+dt      "
   ]
  },
  {
   "cell_type": "markdown",
   "metadata": {
    "colab_type": "text",
    "id": "4_QinnFXPFMO"
   },
   "source": [
    "## Plotting results"
   ]
  },
  {
   "cell_type": "code",
   "execution_count": null,
   "metadata": {
    "colab": {
     "base_uri": "https://localhost:8080/",
     "height": 295
    },
    "colab_type": "code",
    "id": "hTyBmq1aPFMP",
    "outputId": "fff39688-76a3-4942-8a7f-34111f568573"
   },
   "outputs": [],
   "source": [
    "plt.plot(t_Arr,Na_Arr,label =\"Na\")\n",
    "plt.plot(t_Arr,Cl_Arr,label=\"Cl\")\n",
    "plt.plot(t_Arr,K_Arr,label=\"K\")\n",
    "plt.plot(t_Arr,X_Arr,label=\"X\")\n",
    "plt.title(\"Ionic concentration changes\")\n",
    "plt.xlabel(\"Time (s)\")\n",
    "plt.ylabel(\"Intracellular ionic concentrations (M)\")\n",
    "plt.legend(loc = 'upper right')\n",
    "sns.despine()\n",
    "\n"
   ]
  },
  {
   "cell_type": "code",
   "execution_count": 0,
   "metadata": {
    "colab": {},
    "colab_type": "code",
    "id": "aDrrhoJ0PFMS"
   },
   "outputs": [],
   "source": []
  }
 ],
 "metadata": {
  "accelerator": "GPU",
  "colab": {
   "include_colab_link": true,
   "name": "Copy of Single Compartment model.ipynb",
   "provenance": [],
   "toc_visible": true
  },
  "kernelspec": {
   "display_name": "Python 3",
   "language": "python",
   "name": "python3"
  },
  "language_info": {
   "codemirror_mode": {
    "name": "ipython",
    "version": 3
   },
   "file_extension": ".py",
   "mimetype": "text/x-python",
   "name": "python",
   "nbconvert_exporter": "python",
   "pygments_lexer": "ipython3",
   "version": "3.8.3"
  }
 },
 "nbformat": 4,
 "nbformat_minor": 1
}
