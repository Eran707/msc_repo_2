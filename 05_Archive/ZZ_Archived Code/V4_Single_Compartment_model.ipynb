{
  "nbformat": 4,
  "nbformat_minor": 0,
  "metadata": {
    "kernelspec": {
      "name": "python3",
      "display_name": "Python 3"
    },
    "language_info": {
      "codemirror_mode": {
        "name": "ipython",
        "version": 3
      },
      "file_extension": ".py",
      "mimetype": "text/x-python",
      "name": "python",
      "nbconvert_exporter": "python",
      "pygments_lexer": "ipython3",
      "version": "3.7.1"
    },
    "colab": {
      "name": "Copy of Copy of Single Compartment model.ipynb",
      "provenance": [],
      "toc_visible": true,
      "include_colab_link": true
    },
    "accelerator": "GPU"
  },
  "cells": [
    {
      "cell_type": "markdown",
      "metadata": {
        "id": "view-in-github",
        "colab_type": "text"
      },
      "source": [
        "<a href=\"https://colab.research.google.com/github/Eran707/MSc-Computational-Neuroscience-Repo/blob/master/V4_Single_Compartment_model.ipynb\" target=\"_parent\"><img src=\"https://colab.research.google.com/assets/colab-badge.svg\" alt=\"Open In Colab\"/></a>"
      ]
    },
    {
      "cell_type": "markdown",
      "metadata": {
        "id": "Ws7sj99GPFLG",
        "colab_type": "text"
      },
      "source": [
        "# Single compartment pump leak model\n",
        "\n",
        "Coded by Eran Shorer (piggybacking on Kira Dusterwald and Alan Kay)"
      ]
    },
    {
      "cell_type": "markdown",
      "metadata": {
        "id": "Gy8QPBq9PFLI",
        "colab_type": "text"
      },
      "source": [
        "## Introduction\n",
        "\n",
        "Herein I attempt to model the dynamics of a single neuron with emphasis Chloride homeostasis to better understand processes occuring in epilepsy. \n",
        "\n",
        "A Neuron is a type of cell in the nervous system that is able to communicate with other neurons via electrochemical signals. \n",
        "The trillions of communications that occur in the brain give rise to complex animal behaviours.\n",
        "Errors in this signalling pathway therefore can lead disorders in the nervous system.\n",
        "To understand how a network of cells function we can start off by understanding the dynamics of a single neuron. \n",
        "\n",
        "\n",
        "\n"
      ]
    },
    {
      "cell_type": "markdown",
      "metadata": {
        "id": "mvsT0QVmUIch",
        "colab_type": "text"
      },
      "source": [
        "![alt text](https://drive.google.com/uc?id=1GT7WU9e0qYCdLHlDstU_SonNyBc5PP3b)"
      ]
    },
    {
      "cell_type": "markdown",
      "metadata": {
        "id": "81kk5xaMWQZ_",
        "colab_type": "text"
      },
      "source": [
        "Above we have the cell body of a single neuron. \n",
        "\n",
        "(A) Ions:\n",
        "\n",
        "\n",
        "*   Sodium (Na), charge of +1\n",
        "*   Potassium (K), charge of +1\n",
        "*   Chloride (Cl), charge of -1\n",
        "*   Impermeant anions (X) charge of z\n",
        "\n",
        "(B) ATPase: \n",
        "\n",
        "ATP dependant Sodium Potassium Pump which pumps 3 Na out of the neuron for every 2 K it pumps in.\n",
        "\n",
        "(C) KCC2:\n",
        "\n",
        "Potassium-Chloride Cotransporter 2. Pumps out potassium and chloride.\n",
        "\n"
      ]
    },
    {
      "cell_type": "markdown",
      "metadata": {
        "id": "S2qrKey9PFLI",
        "colab_type": "text"
      },
      "source": [
        "## Module installation:\n",
        "\n",
        "numpy - for mathematical operations\n",
        "matplotlib - for graphing\n",
        "seaborn - for graphing"
      ]
    },
    {
      "cell_type": "code",
      "metadata": {
        "id": "pmknOJZnPFLJ",
        "colab_type": "code",
        "outputId": "e04b1326-f1a7-4084-bf72-2f996657ad02",
        "colab": {
          "base_uri": "https://localhost:8080/",
          "height": 105
        }
      },
      "source": [
        "import numpy as np\n",
        "import matplotlib.pyplot as plt\n",
        "import seaborn as sns\n",
        "print('modules installed')"
      ],
      "execution_count": 1,
      "outputs": [
        {
          "output_type": "stream",
          "text": [
            "ERROR! Session/line number was not unique in database. History logging moved to new session 59\n",
            "modules installed\n"
          ],
          "name": "stdout"
        },
        {
          "output_type": "stream",
          "text": [
            "/usr/local/lib/python3.6/dist-packages/statsmodels/tools/_testing.py:19: FutureWarning: pandas.util.testing is deprecated. Use the functions in the public API at pandas.testing instead.\n",
            "  import pandas.util.testing as tm\n"
          ],
          "name": "stderr"
        }
      ]
    },
    {
      "cell_type": "markdown",
      "metadata": {
        "id": "Y3tSOQIMPFLU",
        "colab_type": "text"
      },
      "source": [
        "## Constants:\n",
        "\n",
        "R = Gas Constant\n",
        "F = Faradays Constant\n",
        "T = Temperature in Kelvin\n",
        "RTF is used as a combined variable\n"
      ]
    },
    {
      "cell_type": "code",
      "metadata": {
        "id": "LG87vNA9PFLV",
        "colab_type": "code",
        "outputId": "ac2eb635-1f64-43f6-b279-b3476fd76f8c",
        "colab": {
          "base_uri": "https://localhost:8080/",
          "height": 34
        }
      },
      "source": [
        "R = 8.31466  # J/(Kelvin.mol) #Universal Gas Constant\n",
        "F = 96485.0 #C/mol # Faraday Constant in Volts\n",
        "T = 310.15   #Kelvin # Absolute temperature (37C)\n",
        "RTF = R*T/F  # J/C\n",
        "pw = 0.0015 #dm/s #osmotic permeability of biological membranes\n",
        "vw = 0.018 #dm^3/mol #partial molar volume of water\n",
        "print('Constants set')"
      ],
      "execution_count": 2,
      "outputs": [
        {
          "output_type": "stream",
          "text": [
            "Constants set\n"
          ],
          "name": "stdout"
        }
      ]
    },
    {
      "cell_type": "markdown",
      "metadata": {
        "id": "ajykeC2DPFLc",
        "colab_type": "text"
      },
      "source": [
        "## Parameters:\n",
        "\n",
        "### Cellular dimensions\n",
        "We will be using a cylindrical model of the cell. \n",
        "The area of the sphere (SA) will be fixed but the volume (w) will change based on the osmotic properties of the cell.\n",
        "C_m refers to the membrane capacitance and the FinvCSA is a composite parameter.\n"
      ]
    },
    {
      "cell_type": "markdown",
      "metadata": {
        "id": "KYEEdFMUFRWj",
        "colab_type": "text"
      },
      "source": [
        "![Single compartment dimensions](https://drive.google.com/open?id=1ewq1gO9pru_DFCX4OXwM38dYA_UuCwfe)"
      ]
    },
    {
      "cell_type": "code",
      "metadata": {
        "id": "doGHcTBkPFLd",
        "colab_type": "code",
        "colab": {
          "base_uri": "https://localhost:8080/",
          "height": 34
        },
        "outputId": "9a5ddfc7-388b-45cc-dc9b-1d29baa042aa"
      },
      "source": [
        "rad = 5e-5                      #Radius of compartment (dm)\n",
        "length = 25e-5                  #Length of compartment (dm) \n",
        "\n",
        "w_initial = np.pi*rad**2*length #Initial volume in litres\n",
        "w = w_initial\n",
        "SA_initial = 2*np.pi*rad*length #Initial surface area in dm^2\n",
        "SA = SA_initial \n",
        "Ar = w/SA               #Area scaling constant dm^-1\n",
        "\n",
        "C_m = 2e-4              #(F/dm^2) #Unit of membrane capacitance\n",
        "FinvCAr = F/(C_m)*Ar\n",
        "print('Initial compartment volume:', w_initial, 'Litres')"
      ],
      "execution_count": 3,
      "outputs": [
        {
          "output_type": "stream",
          "text": [
            "Initial compartment volume: 1.9634954084936206e-12 Litres\n"
          ],
          "name": "stdout"
        }
      ]
    },
    {
      "cell_type": "markdown",
      "metadata": {
        "id": "Mp1wBhnGMGdW",
        "colab_type": "text"
      },
      "source": [
        "Q: In Kira's code there is F1D optimization. What is this?\n"
      ]
    },
    {
      "cell_type": "markdown",
      "metadata": {
        "id": "FWfK2WrvPFLh",
        "colab_type": "text"
      },
      "source": [
        "### Ionic properties \n",
        "\n",
        "Here I will define the baseline Osmolarity and hence calculate the concentrations of the ions of interest (Na+, K+, Cl-, and X(impermeant anions)). Both the extracellular and intracellular osmolarities are calculated here.\n",
        "We start by setting the osmolarity to be 300 x 10^-3 Molar. \n",
        "Omsols of negative and positive ions must be 150 X10^-3 Molar respectively. "
      ]
    },
    {
      "cell_type": "code",
      "metadata": {
        "id": "5sItYXg0PFLi",
        "colab_type": "code",
        "outputId": "0e8f91dd-db28-49d3-9674-84af54c38ef2",
        "colab": {
          "base_uri": "https://localhost:8080/",
          "height": 289
        }
      },
      "source": [
        "#Extracellular concentrations (M)\n",
        "ConcO_K = 3.5e-3             \n",
        "ConcO_Cl= 119e-3      \n",
        "ConcO_Na = 145e-3 \n",
        "ConcO_X = -1*(ConcO_Cl - ConcO_Na - ConcO_K)*0.2\n",
        "z_X = -0.85 \n",
        "\n",
        "OsmolO = ConcO_K + ConcO_Na + ConcO_Cl + ConcO_X\n",
        "\n",
        "#Intracellular concentrations (M)\n",
        "ConcI_K = 122.873e-3\n",
        "ConcI_Cl = 5.163e-3\n",
        "ConcI_Na = 14.002e-3\n",
        "ConcI_X = 154.962e-3\n",
        "\n",
        "OsmolI = ConcI_K + ConcI_Na + ConcI_Cl + ConcI_X\n",
        "\n",
        "ratio_X = 0.98 # set ratio of intracellular:extracellular impermeants\n",
        "\n",
        "print(\"Extracellular concentrations: (Molar)\")\n",
        "print(\"---------------------\")\n",
        "print('Na: ',ConcO_Na)\n",
        "print('K: ',ConcO_K)\n",
        "print('Cl: ', ConcO_Cl)\n",
        "print('X: ', ConcO_X)\n",
        "print('Extracellular Osmolarity:', OsmolO)\n",
        "print(\"\")\n",
        "print(\"Intracellular concentrations: (Molar)\")\n",
        "print(\"---------------------\")\n",
        "print('Na: ',ConcI_Na)\n",
        "print('K: ',ConcI_K)\n",
        "print('Cl: ', ConcI_Cl)\n",
        "print('X: ', ConcI_X)\n",
        "print('Intracellular Osmolarity:', OsmolI)\n",
        "print(\"\")"
      ],
      "execution_count": 4,
      "outputs": [
        {
          "output_type": "stream",
          "text": [
            "Extracellular concentrations: (Molar)\n",
            "---------------------\n",
            "Na:  0.145\n",
            "K:  0.0035\n",
            "Cl:  0.119\n",
            "X:  0.005899999999999999\n",
            "Extracellular Osmolarity: 0.2734\n",
            "\n",
            "Intracellular concentrations: (Molar)\n",
            "---------------------\n",
            "Na:  0.014002\n",
            "K:  0.122873\n",
            "Cl:  0.005163\n",
            "X:  0.154962\n",
            "Intracellular Osmolarity: 0.297\n",
            "\n"
          ],
          "name": "stdout"
        }
      ]
    },
    {
      "cell_type": "markdown",
      "metadata": {
        "id": "-ihI-KhYHVpi",
        "colab_type": "text"
      },
      "source": [
        "Q: Where did the equation to calculate extracelluar X come from?"
      ]
    },
    {
      "cell_type": "markdown",
      "metadata": {
        "id": "05TAiS_1PFLl",
        "colab_type": "text"
      },
      "source": [
        "### Channel and pump properties"
      ]
    },
    {
      "cell_type": "code",
      "metadata": {
        "id": "zRYCMoWKPFLm",
        "colab_type": "code",
        "colab": {
          "base_uri": "https://localhost:8080/",
          "height": 34
        },
        "outputId": "2fcdf3a4-2869-49d4-e544-0520b491a89a"
      },
      "source": [
        "g_Na = 2e-3/F   # S/dm2 #Na Leak conductance  (All from Kira's code)\n",
        "g_K = 7e-3/F    # S/dm2 #K Leak conductance\n",
        "g_Cl =2e-3/F    # S/dm2 #Cl Leak conductance\n",
        "g_KCC2 = 2e-3/F #KCC2 conductance from Kira's code\n",
        "g_X = 0/F       # No conductance for impermeant anions\n",
        "\n",
        "curr = -0*5e-8; #Baseline no current injected\n",
        "\n",
        "p_default = -1\n",
        "p_effective = (10**p_default)/F\n",
        "\n",
        "print('Pump rate:', p_effective)"
      ],
      "execution_count": 5,
      "outputs": [
        {
          "output_type": "stream",
          "text": [
            "Pump rate: 1.0364305332435093e-06\n"
          ],
          "name": "stdout"
        }
      ]
    },
    {
      "cell_type": "markdown",
      "metadata": {
        "id": "ws-JARMzKBAg",
        "colab_type": "text"
      },
      "source": [
        "Q: Unsure of what the p_default and p_effective are and how these calculations work"
      ]
    },
    {
      "cell_type": "markdown",
      "metadata": {
        "id": "EdJ8d_JePFLt",
        "colab_type": "text"
      },
      "source": [
        "## Variable initialization:\n"
      ]
    },
    {
      "cell_type": "markdown",
      "metadata": {
        "id": "bB9YOHsSPFLu",
        "colab_type": "text"
      },
      "source": [
        "### Timing related variables"
      ]
    },
    {
      "cell_type": "code",
      "metadata": {
        "id": "K28cMJpbPFLw",
        "colab_type": "code",
        "outputId": "fdbc77e6-3433-43d7-e0ac-c4551147fbd7",
        "colab": {
          "base_uri": "https://localhost:8080/",
          "height": 102
        }
      },
      "source": [
        "#### - Timing related variables\n",
        "t = 0               # real time in seconds\n",
        "totalt = 200        # total time\n",
        "dt = 1e-3           # time step\n",
        "t_on = 0            # time when the ATPase is switched on\n",
        "t_off = 5000        # time when the ATPase is switched off\n",
        "totalsteps = round(totalt/dt)  # total number of time steps\n",
        "\n",
        "sw = 1              # 0 = switch off; 1 = switch on\n",
        "ctr = 1     # counter for plotting \n",
        "n = 1800     # number of plot points\n",
        "ts = totalt/n   # time interval for plotting\n",
        "\n",
        "print('Simulation will run for ',totalt,' seconds') \n",
        "print('The timestep will be', dt, 'seconds')\n",
        "print('There will be ', totalsteps, ' time steps')\n",
        "print('The ATPase pump is switched on at', t_on, 'seconds')\n",
        "print('The ATPase pump is switched off at', t_off, 'seconds')"
      ],
      "execution_count": 6,
      "outputs": [
        {
          "output_type": "stream",
          "text": [
            "Simulation will run for  200  seconds\n",
            "The timestep will be 0.001 seconds\n",
            "There will be  200000  time steps\n",
            "The ATPase pump is switched on at 0 seconds\n",
            "The ATPase pump is switched off at 5000 seconds\n"
          ],
          "name": "stdout"
        }
      ]
    },
    {
      "cell_type": "markdown",
      "metadata": {
        "id": "jz-2lIASPFL5",
        "colab_type": "text"
      },
      "source": [
        "### Array initialization"
      ]
    },
    {
      "cell_type": "code",
      "metadata": {
        "id": "yaU2liVHPFL5",
        "colab_type": "code",
        "outputId": "53547cd1-7cde-461a-a608-e03b693d5203",
        "colab": {
          "base_uri": "https://localhost:8080/",
          "height": 34
        }
      },
      "source": [
        "Na_Arr = []\n",
        "K_Arr = []\n",
        "Cl_Arr = []\n",
        "X_Arr = []\n",
        "Vm_Arr = []\n",
        "t_Arr = []           \n",
        "w_Arr = []\n",
        "ECl_Arr =[]\n",
        "EK_Arr = []\n",
        "\n",
        "print('All arrays are empty to begin with')"
      ],
      "execution_count": 7,
      "outputs": [
        {
          "output_type": "stream",
          "text": [
            "All arrays are empty to begin with\n"
          ],
          "name": "stdout"
        }
      ]
    },
    {
      "cell_type": "markdown",
      "metadata": {
        "id": "nIZd5eeGPFL9",
        "colab_type": "text"
      },
      "source": [
        "# Simulation "
      ]
    },
    {
      "cell_type": "markdown",
      "metadata": {
        "id": "-oq69c-Q2JAE",
        "colab_type": "text"
      },
      "source": [
        "In order to calculate how the system changes with time I use a use a Euler approach with the following differential equaitons"
      ]
    },
    {
      "cell_type": "markdown",
      "metadata": {
        "id": "3mZGfAfu03o9",
        "colab_type": "text"
      },
      "source": [
        "**Calculating the membrane voltage change:**\n",
        "\n",
        "\\begin{equation}\n",
        "\\frac{\\delta V_{m}}{\\delta t}= \\frac{F}{C_{m} SA} \\times w \\times ([Na] + [K] - [Cl] + z[X]) \\\\\n",
        "\\end{equation}\n",
        "\n",
        "**Calculating the KCC2 Pump rate**\n",
        "\n",
        "\\begin{align}\n",
        "E_{K} &= RTF \\times log(\\frac{[K]_{o}}{[K]_{i}})\\\\\n",
        "E_{Cl} &= RTF \\times log(\\frac{[Cl]_{o}}{[Cl]_{i}})\\\\\n",
        "J_{KCC2} &= g_{KCC2}\\times(E_{K}-E_{Cl})\\\\\n",
        "\\nonumber\n",
        "\\end{align}\n",
        "\n",
        "**Calculating changes to intracellular ion concentrations**\n",
        "\\begin{align}\n",
        "\\frac{\\delta [Na]}{\\delta t}&= -\\dfrac{SA}{w}\\times(g_{Na} \\times(V_{m} - \\dfrac{RT}{F} log(\\dfrac{[Na]_{o}}{[Na]_{i}}) + 3J_{p}) \\\\\n",
        "\\frac{\\delta [K]}{\\delta t}&= -\\dfrac{SA}{w} \\times (g_{K} \\times (V_{m} - \\dfrac{RT}{F} log(\\dfrac{[K]_{o}}{[K]_{i}}) + 2J_{p} - J_{KCC2}) \\\\\n",
        "\\frac{\\delta [Cl]}{\\delta t}&= \\dfrac{SA}{w} \\times  (g_{Cl} \\times(V_{m} - \\dfrac{RT}{F} log(\\dfrac{[Cl]_{o}}{[Cl]_{i}}) - J_{KCC2}) \\\\\n",
        "\\nonumber\n",
        "\\end{align}\n",
        "\n",
        "\n"
      ]
    },
    {
      "cell_type": "markdown",
      "metadata": {
        "id": "vJ35WdSsPFL-",
        "colab_type": "text"
      },
      "source": [
        "### Starting voltage:"
      ]
    },
    {
      "cell_type": "code",
      "metadata": {
        "id": "CwZHjax4PFMA",
        "colab_type": "code",
        "outputId": "df7b42a8-f4fe-4b34-eede-9ba4f1890772",
        "colab": {
          "base_uri": "https://localhost:8080/",
          "height": 68
        }
      },
      "source": [
        "Net_Intracellular_Charge = (ConcI_Na+ConcI_K)-ConcI_Cl+z_X*ConcI_X\n",
        "Vm = FinvCAr*(Net_Intracellular_Charge)*1e3\n",
        "\n",
        "print('Net Intracellular Charge:', Net_Intracellular_Charge)\n",
        "print('F*w/Cm*SA :', FinvCAr)\n",
        "print('Starting voltage of: ', round(Vm,3), 'mV')\n"
      ],
      "execution_count": 8,
      "outputs": [
        {
          "output_type": "stream",
          "text": [
            "Net Intracellular Charge: -5.699999999997374e-06\n",
            "F*w/Cm*SA : 12060.624999999998\n",
            "Starting voltage of:  -68.746 mV\n"
          ],
          "name": "stdout"
        }
      ]
    },
    {
      "cell_type": "markdown",
      "metadata": {
        "id": "eYXQRtTmJzIN",
        "colab_type": "text"
      },
      "source": [
        "### Starting ATPase Pump rate:"
      ]
    },
    {
      "cell_type": "markdown",
      "metadata": {
        "id": "ESxxF0-nPD7K",
        "colab_type": "text"
      },
      "source": [
        ""
      ]
    },
    {
      "cell_type": "code",
      "metadata": {
        "id": "rK7difjZJ4iQ",
        "colab_type": "code",
        "colab": {
          "base_uri": "https://localhost:8080/",
          "height": 34
        },
        "outputId": "8fed5e95-6a82-4227-a4de-60f8a3960f2b"
      },
      "source": [
        "p_default = -1\n",
        "p_effective = (10**p_default)/F\n",
        "\n",
        "print('Pump rate:', p_effective)"
      ],
      "execution_count": 9,
      "outputs": [
        {
          "output_type": "stream",
          "text": [
            "Pump rate: 1.0364305332435093e-06\n"
          ],
          "name": "stdout"
        }
      ]
    },
    {
      "cell_type": "markdown",
      "metadata": {
        "id": "Q_vtV14HPFMG",
        "colab_type": "text"
      },
      "source": [
        "### Looping through time"
      ]
    },
    {
      "cell_type": "code",
      "metadata": {
        "id": "wimk7aA5PFMH",
        "colab_type": "code",
        "outputId": "2022ca22-8d4a-4cc9-8078-9c34be7fb63b",
        "colab": {
          "base_uri": "https://localhost:8080/",
          "height": 147
        }
      },
      "source": [
        "for i in range(1,totalsteps):  #note tit = total number of timesteps \n",
        "    \n",
        "    \n",
        "    #Determining switch position of ATPase\n",
        "    if (t<t_off) & (t>t_on): \n",
        "        sw=1 \n",
        "    else: \n",
        "        sw=0\n",
        "            \n",
        "    # Voltage Calculation \n",
        "    Net_Intracellular_Charge = (ConcI_Na+ConcI_K)-ConcI_Cl+z_X*ConcI_X\n",
        "    Vm = FinvCAr*(Net_Intracellular_Charge)\n",
        "    \n",
        "    # KCC2 pump rate calculation \n",
        "    EK = RTF*np.log(ConcO_K/ConcI_K)\n",
        "    ECl = -RTF*np.log(ConcO_Cl/ConcI_Cl)\n",
        "    JKCC2 = g_KCC2*(EK-ECl)\n",
        "\n",
        "    # ATPase pump rate calclation\n",
        "    Jp = p*(ConcI_Na/ConcO_Na)**3\n",
        "\n",
        "    #Dummy X(impermeant anion) concentrations:\n",
        "    ConcO_X_temp = ConcI_X*(1-X_ratio)    \n",
        "\n",
        "    #Incrementing Ion concentration    \n",
        "    d_Na = -dt/Ar*(g_Na*(Vm-RTF*np.log(ConcO_Na/ConcI_Na)) + sw*3*Jp) \n",
        "    d_K = -dt/Ar*(g_K*(Vm-RTF*np.log(ConcO_K/ConcI_K))-JKCC2-sw*2*Jp) \n",
        "    d_Cl = dt/Ar*(g_Cl*(Vm+RTF*np.log(ConcO_Cl/ConcI_Cl))+JKCC2)\n",
        "    d_X = -dt/Ar*z_X*(g_X*np.log(ConcO_X/ConcI_X)\n",
        "\n",
        "    ConcI_Na += d_Na   \n",
        "    ConcI_K += d_K\n",
        "    ConcI_Cl += d_Cl      \n",
        "     \n",
        "    #Osmolarity and volume adjustments\n",
        "    OsmolI = ConcI_Na+ConcI_K+ConcI_Cl+ConcI_X\n",
        "    w2 = w*(OsmolI/OsmolO)\n",
        "    \n",
        "    #Adjusting Concentrations based on new volumes\n",
        "    ConcI_Na *= w/w2\n",
        "    ConcI_K *= w/w2\n",
        "    ConcI_Cl *= w/w2\n",
        "    ConcI_X *= w/w2\n",
        "    \n",
        "    #Updating Arrays and counters\n",
        "    w = w2\n",
        "    \n",
        "    if t >= ctr*ts :\n",
        "        Vm_Arr.append(Vm*1e3)\n",
        "        ECl_Arr.append(ECl*1e3)\n",
        "        EK_Arr.append(EK*1e3)\n",
        "        K_Arr.append(ConcI_K*1e3)\n",
        "        Na_Arr.append(ConcI_Na*1e3)\n",
        "        Cl_Arr.append(ConcI_Cl*1e3)\n",
        "        X_Arr.append(ConcI_X*1e3)\n",
        "        w_Arr.append(100*(1e5)*((3/(4*np.pi))*w)**(1/3))\n",
        "        t_Arr.append(t)\n",
        "        ctr += 1\n",
        "    \n",
        "        \n",
        "    t = t+dt      \n",
        "print('Simulation complete')\n",
        "print('Final chloride concentration:', Cl_Arr[-1], ' M')\n",
        "print('Final cell volume:', w_Arr[-1], 'L')"
      ],
      "execution_count": 9,
      "outputs": [
        {
          "output_type": "error",
          "ename": "SyntaxError",
          "evalue": "ignored",
          "traceback": [
            "\u001b[0;36m  File \u001b[0;32m\"<ipython-input-10-9e5e5e703b39>\"\u001b[0;36m, line \u001b[0;32m36\u001b[0m\n\u001b[0;31m    OsmolI = ConcI_Na+ConcI_K+ConcI_Cl+ConcI_X\u001b[0m\n\u001b[0m         ^\u001b[0m\n\u001b[0;31mSyntaxError\u001b[0m\u001b[0;31m:\u001b[0m invalid syntax\n"
          ]
        },
        {
          "output_type": "stream",
          "text": [
            "ERROR! Session/line number was not unique in database. History logging moved to new session 63\n"
          ],
          "name": "stdout"
        }
      ]
    },
    {
      "cell_type": "markdown",
      "metadata": {
        "id": "4_QinnFXPFMO",
        "colab_type": "text"
      },
      "source": [
        "## Plotting results"
      ]
    },
    {
      "cell_type": "code",
      "metadata": {
        "id": "hTyBmq1aPFMP",
        "colab_type": "code",
        "colab": {}
      },
      "source": [
        "plt.plot(t_Arr,Na_Arr,label =\"Na\")\n",
        "plt.plot(t_Arr,Cl_Arr,label=\"Cl\")\n",
        "plt.plot(t_Arr,K_Arr,label=\"K\")\n",
        "plt.plot(t_Arr,X_Arr,label=\"X\")\n",
        "\n",
        "SwitchOffX_Arr =[]\n",
        "SwitchOnX_Arr= []\n",
        "SwitchOnY_Arr=[]\n",
        "SwitchOffY_Arr=[]\n",
        "for a in range(0,150):\n",
        "  SwitchOffX_Arr.append(t_off)\n",
        "  SwitchOnX_Arr.append(t_on)\n",
        "  SwitchOnY_Arr.append(a)\n",
        "  SwitchOffY_Arr.append(a)\n",
        "\n",
        "plt.plot(SwitchOnX_Arr,SwitchOnY_Arr,'k:')\n",
        "plt.plot(SwitchOffX_Arr,SwitchOffY_Arr,'k:')\n",
        "plt.title(\"Ionic concentration changes\")\n",
        "plt.xlabel(\"Time (s)\")\n",
        "plt.ylabel(\"Intracellular ionic concentrations (M)\")\n",
        "plt.legend(loc = 'upper right')\n",
        "sns.despine()\n",
        "plt.annotate('ATPase On', xy=(t_on, 150))\n",
        "plt.annotate('ATPase Off', xy=(t_off, 150))\n"
      ],
      "execution_count": 0,
      "outputs": []
    },
    {
      "cell_type": "markdown",
      "metadata": {
        "id": "l50ow-JgI-Sj",
        "colab_type": "text"
      },
      "source": [
        "Visualizing the membrane potential changes with time"
      ]
    },
    {
      "cell_type": "code",
      "metadata": {
        "id": "aDrrhoJ0PFMS",
        "colab_type": "code",
        "colab": {}
      },
      "source": [
        "plt.plot(t_Arr,EK_Arr,label =\"EK\")\n",
        "plt.plot(t_Arr,ECl_Arr,label=\"ECl\")\n",
        "plt.plot(t_Arr,Vm_Arr,label=\"Vm\")\n",
        "\n",
        "SwitchOffX_Arr =[]\n",
        "SwitchOnX_Arr= []\n",
        "SwitchOnY_Arr=[]\n",
        "SwitchOffY_Arr=[]\n",
        "for a in range(-120,150):\n",
        "  SwitchOffX_Arr.append(t_off)\n",
        "  SwitchOnX_Arr.append(t_on)\n",
        "  SwitchOnY_Arr.append(a)\n",
        "  SwitchOffY_Arr.append(a)\n",
        "\n",
        "plt.plot(SwitchOnX_Arr,SwitchOnY_Arr,'k:')\n",
        "plt.plot(SwitchOffX_Arr,SwitchOffY_Arr,'k:')\n",
        "plt.title(\"Changes in cell potentials\")\n",
        "plt.xlabel(\"Time (s)\")\n",
        "plt.ylabel(\"Voltage (V)\")\n",
        "plt.legend(loc = 'upper right')\n",
        "sns.despine()\n",
        "plt.annotate('ATPase On', xy=(t_on, 150))\n",
        "plt.annotate('ATPase Off', xy=(t_off, 150))\n",
        "\n"
      ],
      "execution_count": 0,
      "outputs": []
    },
    {
      "cell_type": "markdown",
      "metadata": {
        "id": "9rfZ4NXZJEI8",
        "colab_type": "text"
      },
      "source": [
        "Visualizing cell volume changes with time"
      ]
    },
    {
      "cell_type": "code",
      "metadata": {
        "id": "9q6Ih0mvJJJS",
        "colab_type": "code",
        "colab": {}
      },
      "source": [
        "plt.plot(t_Arr,w_Arr,label=\"Volume (pL)\")\n",
        "\n",
        "\n",
        "SwitchOffX_Arr =[]\n",
        "SwitchOnX_Arr= []\n",
        "SwitchOnY_Arr=[]\n",
        "SwitchOffY_Arr=[]\n",
        "for a in range(300,530):\n",
        "  SwitchOffX_Arr.append(t_off)\n",
        "  SwitchOnX_Arr.append(t_on)\n",
        "  SwitchOnY_Arr.append(a)\n",
        "  SwitchOffY_Arr.append(a)\n",
        "  \n",
        "plt.plot(SwitchOnX_Arr,SwitchOnY_Arr,'k:')\n",
        "plt.plot(SwitchOffX_Arr,SwitchOffY_Arr,'k:')\n",
        "sns.despine()\n",
        "\n",
        "plt.annotate('ATPase On', xy=(t_on, max(w_Arr)))\n",
        "plt.annotate('ATPase Off', xy=(t_off, max(w_Arr)))\n"
      ],
      "execution_count": 0,
      "outputs": []
    }
  ]
}